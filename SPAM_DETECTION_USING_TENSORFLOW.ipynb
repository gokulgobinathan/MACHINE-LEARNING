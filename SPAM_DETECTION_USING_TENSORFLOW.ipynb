{
  "nbformat": 4,
  "nbformat_minor": 0,
  "metadata": {
    "colab": {
      "provenance": [],
      "gpuType": "T4",
      "include_colab_link": true
    },
    "kernelspec": {
      "name": "python3",
      "display_name": "Python 3"
    },
    "language_info": {
      "name": "python"
    },
    "accelerator": "GPU"
  },
  "cells": [
    {
      "cell_type": "markdown",
      "metadata": {
        "id": "view-in-github",
        "colab_type": "text"
      },
      "source": [
        "<a href=\"https://colab.research.google.com/github/gokulgobinathan/MACHINE-LEARNING/blob/main/SPAM_DETECTION_USING_TENSORFLOW.ipynb\" target=\"_parent\"><img src=\"https://colab.research.google.com/assets/colab-badge.svg\" alt=\"Open In Colab\"/></a>"
      ]
    },
    {
      "cell_type": "code",
      "execution_count": null,
      "metadata": {
        "id": "kvYhEyjtAOTS"
      },
      "outputs": [],
      "source": [
        "import tensorflow as tf\n",
        "import numpy as np\n",
        "import pandas as pd\n",
        "from tensorflow.keras.models import Sequential\n",
        "from tensorflow.keras import Input\n",
        "from sklearn.model_selection import train_test_split\n",
        "import matplotlib.pylab as plt\n"
      ]
    },
    {
      "cell_type": "code",
      "source": [
        "data = pd.read_csv(\"https://raw.githubusercontent.com/soaicbe/ml/master/spam.csv\")\n",
        "data"
      ],
      "metadata": {
        "colab": {
          "base_uri": "https://localhost:8080/",
          "height": 423
        },
        "id": "OEA3comEC5_p",
        "outputId": "0837b28b-25ed-43d5-ee38-b37ca3edd8da"
      },
      "execution_count": null,
      "outputs": [
        {
          "output_type": "execute_result",
          "data": {
            "text/plain": [
              "     Category                                            Message\n",
              "0         ham  Go until jurong point, crazy.. Available only ...\n",
              "1         ham                      Ok lar... Joking wif u oni...\n",
              "2        spam  Free entry in 2 a wkly comp to win FA Cup fina...\n",
              "3         ham  U dun say so early hor... U c already then say...\n",
              "4         ham  Nah I don't think he goes to usf, he lives aro...\n",
              "...       ...                                                ...\n",
              "5567     spam  This is the 2nd time we have tried 2 contact u...\n",
              "5568      ham               Will ü b going to esplanade fr home?\n",
              "5569      ham  Pity, * was in mood for that. So...any other s...\n",
              "5570      ham  The guy did some bitching but I acted like i'd...\n",
              "5571      ham                         Rofl. Its true to its name\n",
              "\n",
              "[5572 rows x 2 columns]"
            ],
            "text/html": [
              "\n",
              "  <div id=\"df-d3824d5c-17a4-433f-a600-2cffc69bf6fd\" class=\"colab-df-container\">\n",
              "    <div>\n",
              "<style scoped>\n",
              "    .dataframe tbody tr th:only-of-type {\n",
              "        vertical-align: middle;\n",
              "    }\n",
              "\n",
              "    .dataframe tbody tr th {\n",
              "        vertical-align: top;\n",
              "    }\n",
              "\n",
              "    .dataframe thead th {\n",
              "        text-align: right;\n",
              "    }\n",
              "</style>\n",
              "<table border=\"1\" class=\"dataframe\">\n",
              "  <thead>\n",
              "    <tr style=\"text-align: right;\">\n",
              "      <th></th>\n",
              "      <th>Category</th>\n",
              "      <th>Message</th>\n",
              "    </tr>\n",
              "  </thead>\n",
              "  <tbody>\n",
              "    <tr>\n",
              "      <th>0</th>\n",
              "      <td>ham</td>\n",
              "      <td>Go until jurong point, crazy.. Available only ...</td>\n",
              "    </tr>\n",
              "    <tr>\n",
              "      <th>1</th>\n",
              "      <td>ham</td>\n",
              "      <td>Ok lar... Joking wif u oni...</td>\n",
              "    </tr>\n",
              "    <tr>\n",
              "      <th>2</th>\n",
              "      <td>spam</td>\n",
              "      <td>Free entry in 2 a wkly comp to win FA Cup fina...</td>\n",
              "    </tr>\n",
              "    <tr>\n",
              "      <th>3</th>\n",
              "      <td>ham</td>\n",
              "      <td>U dun say so early hor... U c already then say...</td>\n",
              "    </tr>\n",
              "    <tr>\n",
              "      <th>4</th>\n",
              "      <td>ham</td>\n",
              "      <td>Nah I don't think he goes to usf, he lives aro...</td>\n",
              "    </tr>\n",
              "    <tr>\n",
              "      <th>...</th>\n",
              "      <td>...</td>\n",
              "      <td>...</td>\n",
              "    </tr>\n",
              "    <tr>\n",
              "      <th>5567</th>\n",
              "      <td>spam</td>\n",
              "      <td>This is the 2nd time we have tried 2 contact u...</td>\n",
              "    </tr>\n",
              "    <tr>\n",
              "      <th>5568</th>\n",
              "      <td>ham</td>\n",
              "      <td>Will ü b going to esplanade fr home?</td>\n",
              "    </tr>\n",
              "    <tr>\n",
              "      <th>5569</th>\n",
              "      <td>ham</td>\n",
              "      <td>Pity, * was in mood for that. So...any other s...</td>\n",
              "    </tr>\n",
              "    <tr>\n",
              "      <th>5570</th>\n",
              "      <td>ham</td>\n",
              "      <td>The guy did some bitching but I acted like i'd...</td>\n",
              "    </tr>\n",
              "    <tr>\n",
              "      <th>5571</th>\n",
              "      <td>ham</td>\n",
              "      <td>Rofl. Its true to its name</td>\n",
              "    </tr>\n",
              "  </tbody>\n",
              "</table>\n",
              "<p>5572 rows × 2 columns</p>\n",
              "</div>\n",
              "    <div class=\"colab-df-buttons\">\n",
              "\n",
              "  <div class=\"colab-df-container\">\n",
              "    <button class=\"colab-df-convert\" onclick=\"convertToInteractive('df-d3824d5c-17a4-433f-a600-2cffc69bf6fd')\"\n",
              "            title=\"Convert this dataframe to an interactive table.\"\n",
              "            style=\"display:none;\">\n",
              "\n",
              "  <svg xmlns=\"http://www.w3.org/2000/svg\" height=\"24px\" viewBox=\"0 -960 960 960\">\n",
              "    <path d=\"M120-120v-720h720v720H120Zm60-500h600v-160H180v160Zm220 220h160v-160H400v160Zm0 220h160v-160H400v160ZM180-400h160v-160H180v160Zm440 0h160v-160H620v160ZM180-180h160v-160H180v160Zm440 0h160v-160H620v160Z\"/>\n",
              "  </svg>\n",
              "    </button>\n",
              "\n",
              "  <style>\n",
              "    .colab-df-container {\n",
              "      display:flex;\n",
              "      gap: 12px;\n",
              "    }\n",
              "\n",
              "    .colab-df-convert {\n",
              "      background-color: #E8F0FE;\n",
              "      border: none;\n",
              "      border-radius: 50%;\n",
              "      cursor: pointer;\n",
              "      display: none;\n",
              "      fill: #1967D2;\n",
              "      height: 32px;\n",
              "      padding: 0 0 0 0;\n",
              "      width: 32px;\n",
              "    }\n",
              "\n",
              "    .colab-df-convert:hover {\n",
              "      background-color: #E2EBFA;\n",
              "      box-shadow: 0px 1px 2px rgba(60, 64, 67, 0.3), 0px 1px 3px 1px rgba(60, 64, 67, 0.15);\n",
              "      fill: #174EA6;\n",
              "    }\n",
              "\n",
              "    .colab-df-buttons div {\n",
              "      margin-bottom: 4px;\n",
              "    }\n",
              "\n",
              "    [theme=dark] .colab-df-convert {\n",
              "      background-color: #3B4455;\n",
              "      fill: #D2E3FC;\n",
              "    }\n",
              "\n",
              "    [theme=dark] .colab-df-convert:hover {\n",
              "      background-color: #434B5C;\n",
              "      box-shadow: 0px 1px 3px 1px rgba(0, 0, 0, 0.15);\n",
              "      filter: drop-shadow(0px 1px 2px rgba(0, 0, 0, 0.3));\n",
              "      fill: #FFFFFF;\n",
              "    }\n",
              "  </style>\n",
              "\n",
              "    <script>\n",
              "      const buttonEl =\n",
              "        document.querySelector('#df-d3824d5c-17a4-433f-a600-2cffc69bf6fd button.colab-df-convert');\n",
              "      buttonEl.style.display =\n",
              "        google.colab.kernel.accessAllowed ? 'block' : 'none';\n",
              "\n",
              "      async function convertToInteractive(key) {\n",
              "        const element = document.querySelector('#df-d3824d5c-17a4-433f-a600-2cffc69bf6fd');\n",
              "        const dataTable =\n",
              "          await google.colab.kernel.invokeFunction('convertToInteractive',\n",
              "                                                    [key], {});\n",
              "        if (!dataTable) return;\n",
              "\n",
              "        const docLinkHtml = 'Like what you see? Visit the ' +\n",
              "          '<a target=\"_blank\" href=https://colab.research.google.com/notebooks/data_table.ipynb>data table notebook</a>'\n",
              "          + ' to learn more about interactive tables.';\n",
              "        element.innerHTML = '';\n",
              "        dataTable['output_type'] = 'display_data';\n",
              "        await google.colab.output.renderOutput(dataTable, element);\n",
              "        const docLink = document.createElement('div');\n",
              "        docLink.innerHTML = docLinkHtml;\n",
              "        element.appendChild(docLink);\n",
              "      }\n",
              "    </script>\n",
              "  </div>\n",
              "\n",
              "\n",
              "<div id=\"df-601ab769-cae1-4fe0-a5c7-3cc21ceda24c\">\n",
              "  <button class=\"colab-df-quickchart\" onclick=\"quickchart('df-601ab769-cae1-4fe0-a5c7-3cc21ceda24c')\"\n",
              "            title=\"Suggest charts\"\n",
              "            style=\"display:none;\">\n",
              "\n",
              "<svg xmlns=\"http://www.w3.org/2000/svg\" height=\"24px\"viewBox=\"0 0 24 24\"\n",
              "     width=\"24px\">\n",
              "    <g>\n",
              "        <path d=\"M19 3H5c-1.1 0-2 .9-2 2v14c0 1.1.9 2 2 2h14c1.1 0 2-.9 2-2V5c0-1.1-.9-2-2-2zM9 17H7v-7h2v7zm4 0h-2V7h2v10zm4 0h-2v-4h2v4z\"/>\n",
              "    </g>\n",
              "</svg>\n",
              "  </button>\n",
              "\n",
              "<style>\n",
              "  .colab-df-quickchart {\n",
              "      --bg-color: #E8F0FE;\n",
              "      --fill-color: #1967D2;\n",
              "      --hover-bg-color: #E2EBFA;\n",
              "      --hover-fill-color: #174EA6;\n",
              "      --disabled-fill-color: #AAA;\n",
              "      --disabled-bg-color: #DDD;\n",
              "  }\n",
              "\n",
              "  [theme=dark] .colab-df-quickchart {\n",
              "      --bg-color: #3B4455;\n",
              "      --fill-color: #D2E3FC;\n",
              "      --hover-bg-color: #434B5C;\n",
              "      --hover-fill-color: #FFFFFF;\n",
              "      --disabled-bg-color: #3B4455;\n",
              "      --disabled-fill-color: #666;\n",
              "  }\n",
              "\n",
              "  .colab-df-quickchart {\n",
              "    background-color: var(--bg-color);\n",
              "    border: none;\n",
              "    border-radius: 50%;\n",
              "    cursor: pointer;\n",
              "    display: none;\n",
              "    fill: var(--fill-color);\n",
              "    height: 32px;\n",
              "    padding: 0;\n",
              "    width: 32px;\n",
              "  }\n",
              "\n",
              "  .colab-df-quickchart:hover {\n",
              "    background-color: var(--hover-bg-color);\n",
              "    box-shadow: 0 1px 2px rgba(60, 64, 67, 0.3), 0 1px 3px 1px rgba(60, 64, 67, 0.15);\n",
              "    fill: var(--button-hover-fill-color);\n",
              "  }\n",
              "\n",
              "  .colab-df-quickchart-complete:disabled,\n",
              "  .colab-df-quickchart-complete:disabled:hover {\n",
              "    background-color: var(--disabled-bg-color);\n",
              "    fill: var(--disabled-fill-color);\n",
              "    box-shadow: none;\n",
              "  }\n",
              "\n",
              "  .colab-df-spinner {\n",
              "    border: 2px solid var(--fill-color);\n",
              "    border-color: transparent;\n",
              "    border-bottom-color: var(--fill-color);\n",
              "    animation:\n",
              "      spin 1s steps(1) infinite;\n",
              "  }\n",
              "\n",
              "  @keyframes spin {\n",
              "    0% {\n",
              "      border-color: transparent;\n",
              "      border-bottom-color: var(--fill-color);\n",
              "      border-left-color: var(--fill-color);\n",
              "    }\n",
              "    20% {\n",
              "      border-color: transparent;\n",
              "      border-left-color: var(--fill-color);\n",
              "      border-top-color: var(--fill-color);\n",
              "    }\n",
              "    30% {\n",
              "      border-color: transparent;\n",
              "      border-left-color: var(--fill-color);\n",
              "      border-top-color: var(--fill-color);\n",
              "      border-right-color: var(--fill-color);\n",
              "    }\n",
              "    40% {\n",
              "      border-color: transparent;\n",
              "      border-right-color: var(--fill-color);\n",
              "      border-top-color: var(--fill-color);\n",
              "    }\n",
              "    60% {\n",
              "      border-color: transparent;\n",
              "      border-right-color: var(--fill-color);\n",
              "    }\n",
              "    80% {\n",
              "      border-color: transparent;\n",
              "      border-right-color: var(--fill-color);\n",
              "      border-bottom-color: var(--fill-color);\n",
              "    }\n",
              "    90% {\n",
              "      border-color: transparent;\n",
              "      border-bottom-color: var(--fill-color);\n",
              "    }\n",
              "  }\n",
              "</style>\n",
              "\n",
              "  <script>\n",
              "    async function quickchart(key) {\n",
              "      const quickchartButtonEl =\n",
              "        document.querySelector('#' + key + ' button');\n",
              "      quickchartButtonEl.disabled = true;  // To prevent multiple clicks.\n",
              "      quickchartButtonEl.classList.add('colab-df-spinner');\n",
              "      try {\n",
              "        const charts = await google.colab.kernel.invokeFunction(\n",
              "            'suggestCharts', [key], {});\n",
              "      } catch (error) {\n",
              "        console.error('Error during call to suggestCharts:', error);\n",
              "      }\n",
              "      quickchartButtonEl.classList.remove('colab-df-spinner');\n",
              "      quickchartButtonEl.classList.add('colab-df-quickchart-complete');\n",
              "    }\n",
              "    (() => {\n",
              "      let quickchartButtonEl =\n",
              "        document.querySelector('#df-601ab769-cae1-4fe0-a5c7-3cc21ceda24c button');\n",
              "      quickchartButtonEl.style.display =\n",
              "        google.colab.kernel.accessAllowed ? 'block' : 'none';\n",
              "    })();\n",
              "  </script>\n",
              "</div>\n",
              "    </div>\n",
              "  </div>\n"
            ],
            "application/vnd.google.colaboratory.intrinsic+json": {
              "type": "dataframe",
              "variable_name": "data",
              "summary": "{\n  \"name\": \"data\",\n  \"rows\": 5572,\n  \"fields\": [\n    {\n      \"column\": \"Category\",\n      \"properties\": {\n        \"dtype\": \"category\",\n        \"num_unique_values\": 2,\n        \"samples\": [\n          \"spam\",\n          \"ham\"\n        ],\n        \"semantic_type\": \"\",\n        \"description\": \"\"\n      }\n    },\n    {\n      \"column\": \"Message\",\n      \"properties\": {\n        \"dtype\": \"string\",\n        \"num_unique_values\": 5157,\n        \"samples\": [\n          \"Also sir, i sent you an email about how to log into the usc payment portal. I.ll send you another message that should explain how things are back home. Have a great weekend.\",\n          \"Are you free now?can i call now?\"\n        ],\n        \"semantic_type\": \"\",\n        \"description\": \"\"\n      }\n    }\n  ]\n}"
            }
          },
          "metadata": {},
          "execution_count": 2
        }
      ]
    },
    {
      "cell_type": "code",
      "source": [
        "from sklearn.preprocessing import LabelEncoder\n",
        "encoder = LabelEncoder()\n",
        "data['Category'] = encoder.fit_transform(data['Category'])\n"
      ],
      "metadata": {
        "id": "nrJ1KLQ9Hpcq"
      },
      "execution_count": null,
      "outputs": []
    },
    {
      "cell_type": "code",
      "source": [
        "X_train,X_test, y_train,y_test = train_test_split(data['Message'], data['Category'], test_size=0.2)"
      ],
      "metadata": {
        "id": "eTF3s8KSCXkj"
      },
      "execution_count": null,
      "outputs": []
    },
    {
      "cell_type": "code",
      "source": [
        "X_test"
      ],
      "metadata": {
        "colab": {
          "base_uri": "https://localhost:8080/"
        },
        "id": "n7YvDX3uMKG9",
        "outputId": "187bd611-01b4-4bcb-a944-dcfc77dd5673"
      },
      "execution_count": null,
      "outputs": [
        {
          "output_type": "execute_result",
          "data": {
            "text/plain": [
              "1593    Will it help if we propose going back again to...\n",
              "243     Okay. No no, just shining on. That was meant t...\n",
              "2532    What's happening with you. Have you gotten a j...\n",
              "2707    S now only i took tablets . Reaction morning o...\n",
              "5125    After my work ah... Den 6 plus lor... U workin...\n",
              "                              ...                        \n",
              "2502                         No da..today also i forgot..\n",
              "1114    No I'm good for the movie, is it ok if I leave...\n",
              "5038                         (You didn't hear it from me)\n",
              "4006    , ow u dey.i paid 60,400thousad.i told  u woul...\n",
              "4922    Its so common hearin How r u? Wat r u doing? H...\n",
              "Name: Message, Length: 1115, dtype: object"
            ]
          },
          "metadata": {},
          "execution_count": 5
        }
      ]
    },
    {
      "cell_type": "code",
      "source": [
        "model = Sequential()\n",
        "model.add(Input(shape=(1,), dtype=\"string\"))"
      ],
      "metadata": {
        "id": "Bucx_tCFFVN-"
      },
      "execution_count": null,
      "outputs": []
    },
    {
      "cell_type": "code",
      "source": [
        "from tensorflow.keras.layers.experimental.preprocessing import TextVectorization\n",
        "\n",
        "max_tokens = 100\n",
        "max_len = 10\n",
        "vectorize_layer = TextVectorization(\n",
        "  max_tokens=max_tokens,\n",
        "  output_mode=\"int\",\n",
        "  output_sequence_length=max_len,\n",
        ")"
      ],
      "metadata": {
        "id": "PmNGxWT9GREg"
      },
      "execution_count": null,
      "outputs": []
    },
    {
      "cell_type": "code",
      "source": [
        "vectorize_layer.adapt(X_train)"
      ],
      "metadata": {
        "id": "MpfyWMLrGcDO"
      },
      "execution_count": null,
      "outputs": []
    },
    {
      "cell_type": "code",
      "source": [
        "reverse_word_index = vectorize_layer.get_vocabulary()\n",
        "reverse_word_index"
      ],
      "metadata": {
        "colab": {
          "base_uri": "https://localhost:8080/"
        },
        "id": "KyCSjGqMGeq0",
        "outputId": "393074cb-cf9f-4bb5-ba4e-b51340076667"
      },
      "execution_count": null,
      "outputs": [
        {
          "output_type": "execute_result",
          "data": {
            "text/plain": [
              "['',\n",
              " '[UNK]',\n",
              " 'to',\n",
              " 'i',\n",
              " 'you',\n",
              " 'a',\n",
              " 'the',\n",
              " 'u',\n",
              " 'and',\n",
              " 'is',\n",
              " 'in',\n",
              " 'me',\n",
              " 'my',\n",
              " 'for',\n",
              " 'your',\n",
              " 'of',\n",
              " 'it',\n",
              " 'call',\n",
              " 'have',\n",
              " 'on',\n",
              " 'that',\n",
              " 'are',\n",
              " 'now',\n",
              " '2',\n",
              " 'im',\n",
              " 'so',\n",
              " 'or',\n",
              " 'but',\n",
              " 'not',\n",
              " 'ur',\n",
              " 'at',\n",
              " 'get',\n",
              " 'can',\n",
              " 'be',\n",
              " 'do',\n",
              " 'with',\n",
              " 'will',\n",
              " 'if',\n",
              " 'just',\n",
              " 'we',\n",
              " 'no',\n",
              " 'up',\n",
              " 'this',\n",
              " 'its',\n",
              " 'dont',\n",
              " 'when',\n",
              " 'from',\n",
              " 'go',\n",
              " 'all',\n",
              " 'how',\n",
              " 'free',\n",
              " '4',\n",
              " 'what',\n",
              " 'out',\n",
              " 'ok',\n",
              " 'ltgt',\n",
              " 'know',\n",
              " 'good',\n",
              " 'like',\n",
              " 'come',\n",
              " 'ill',\n",
              " 'am',\n",
              " 'got',\n",
              " 'then',\n",
              " 'was',\n",
              " 'only',\n",
              " 'day',\n",
              " 'time',\n",
              " 'there',\n",
              " 'want',\n",
              " 'text',\n",
              " 'love',\n",
              " 'send',\n",
              " 'as',\n",
              " 'by',\n",
              " 'one',\n",
              " 'going',\n",
              " 'need',\n",
              " 'he',\n",
              " 'see',\n",
              " 'about',\n",
              " 'txt',\n",
              " 'r',\n",
              " 'lor',\n",
              " 'home',\n",
              " 'stop',\n",
              " 'sorry',\n",
              " 'still',\n",
              " 'our',\n",
              " 'today',\n",
              " 'hi',\n",
              " 'n',\n",
              " 'mobile',\n",
              " 'back',\n",
              " 'new',\n",
              " 'please',\n",
              " 'reply',\n",
              " 'been',\n",
              " 'tell',\n",
              " 'think']"
            ]
          },
          "metadata": {},
          "execution_count": 9
        }
      ]
    },
    {
      "cell_type": "code",
      "source": [
        "vectorize_layer.get_weights()"
      ],
      "metadata": {
        "colab": {
          "base_uri": "https://localhost:8080/"
        },
        "id": "DLUWl0UsGjHG",
        "outputId": "5bf93588-1f20-47b1-8975-67eb5f7e4a9e"
      },
      "execution_count": null,
      "outputs": [
        {
          "output_type": "execute_result",
          "data": {
            "text/plain": [
              "[array([b'to', b'i', b'you', b'a', b'the', b'u', b'and', b'is', b'in',\n",
              "        b'me', b'my', b'for', b'your', b'of', b'it', b'call', b'have',\n",
              "        b'on', b'that', b'are', b'now', b'2', b'im', b'so', b'or', b'but',\n",
              "        b'not', b'ur', b'at', b'get', b'can', b'be', b'do', b'with',\n",
              "        b'will', b'if', b'just', b'we', b'no', b'up', b'this', b'its',\n",
              "        b'dont', b'when', b'from', b'go', b'all', b'how', b'free', b'4',\n",
              "        b'what', b'out', b'ok', b'ltgt', b'know', b'good', b'like',\n",
              "        b'come', b'ill', b'am', b'got', b'then', b'was', b'only', b'day',\n",
              "        b'time', b'there', b'want', b'text', b'love', b'send', b'as',\n",
              "        b'by', b'one', b'going', b'need', b'he', b'see', b'about', b'txt',\n",
              "        b'r', b'lor', b'home', b'stop', b'sorry', b'still', b'our',\n",
              "        b'today', b'hi', b'n', b'mobile', b'back', b'new', b'please',\n",
              "        b'reply', b'been', b'tell', b'think'], dtype=object)]"
            ]
          },
          "metadata": {},
          "execution_count": 10
        }
      ]
    },
    {
      "cell_type": "code",
      "source": [
        "model.add(vectorize_layer)"
      ],
      "metadata": {
        "id": "qdHTs69FGm7W"
      },
      "execution_count": null,
      "outputs": []
    },
    {
      "cell_type": "code",
      "source": [
        "model.summary()"
      ],
      "metadata": {
        "colab": {
          "base_uri": "https://localhost:8080/"
        },
        "id": "7fGyMG85Golr",
        "outputId": "111a9f3b-3538-4dda-f605-2ccc370b76d6"
      },
      "execution_count": null,
      "outputs": [
        {
          "output_type": "stream",
          "name": "stdout",
          "text": [
            "Model: \"sequential\"\n",
            "_________________________________________________________________\n",
            " Layer (type)                Output Shape              Param #   \n",
            "=================================================================\n",
            " text_vectorization (TextVe  (None, 10)                0         \n",
            " ctorization)                                                    \n",
            "                                                                 \n",
            "=================================================================\n",
            "Total params: 0 (0.00 Byte)\n",
            "Trainable params: 0 (0.00 Byte)\n",
            "Non-trainable params: 0 (0.00 Byte)\n",
            "_________________________________________________________________\n"
          ]
        }
      ]
    },
    {
      "cell_type": "code",
      "source": [
        "from tensorflow.keras.layers import Embedding\n",
        "model.add(Embedding(max_tokens + 1, 8))"
      ],
      "metadata": {
        "id": "VVXlMiTKGsJ4"
      },
      "execution_count": null,
      "outputs": []
    },
    {
      "cell_type": "code",
      "source": [
        "from tensorflow.keras.layers import LSTM, SimpleRNN\n",
        "model.add(LSTM(16))\n"
      ],
      "metadata": {
        "id": "9Ak_DpfPGuU5"
      },
      "execution_count": null,
      "outputs": []
    },
    {
      "cell_type": "code",
      "source": [
        "from tensorflow.keras.layers import Dense\n",
        "\n",
        "model.add(Dense(16, activation=\"relu\"))\n",
        "model.add(Dense(1, activation=\"sigmoid\"))"
      ],
      "metadata": {
        "id": "Ta-DShMwGwv0"
      },
      "execution_count": null,
      "outputs": []
    },
    {
      "cell_type": "code",
      "source": [
        "model.summary()"
      ],
      "metadata": {
        "colab": {
          "base_uri": "https://localhost:8080/"
        },
        "id": "XrUZTjkXGzqG",
        "outputId": "660dc991-c948-447a-b5a4-dc0c6fba86ae"
      },
      "execution_count": null,
      "outputs": [
        {
          "output_type": "stream",
          "name": "stdout",
          "text": [
            "Model: \"sequential\"\n",
            "_________________________________________________________________\n",
            " Layer (type)                Output Shape              Param #   \n",
            "=================================================================\n",
            " text_vectorization (TextVe  (None, 10)                0         \n",
            " ctorization)                                                    \n",
            "                                                                 \n",
            " embedding (Embedding)       (None, 10, 8)             808       \n",
            "                                                                 \n",
            " lstm (LSTM)                 (None, 16)                1600      \n",
            "                                                                 \n",
            " dense (Dense)               (None, 16)                272       \n",
            "                                                                 \n",
            " dense_1 (Dense)             (None, 1)                 17        \n",
            "                                                                 \n",
            "=================================================================\n",
            "Total params: 2697 (10.54 KB)\n",
            "Trainable params: 2697 (10.54 KB)\n",
            "Non-trainable params: 0 (0.00 Byte)\n",
            "_________________________________________________________________\n"
          ]
        }
      ]
    },
    {
      "cell_type": "code",
      "source": [
        "model.compile(\n",
        "  optimizer='adam',\n",
        "  loss='binary_crossentropy',\n",
        "  metrics=['accuracy'],\n",
        ")"
      ],
      "metadata": {
        "id": "hvzOD2RgG5tg"
      },
      "execution_count": null,
      "outputs": []
    },
    {
      "cell_type": "code",
      "source": [
        "history = model.fit(X_train, y_train, epochs=100)\n"
      ],
      "metadata": {
        "colab": {
          "base_uri": "https://localhost:8080/"
        },
        "id": "ub9J9JZUG7sF",
        "outputId": "07e8725a-d764-44c1-c498-a7fa63f71d63"
      },
      "execution_count": null,
      "outputs": [
        {
          "output_type": "stream",
          "name": "stdout",
          "text": [
            "Epoch 1/100\n",
            "140/140 [==============================] - 9s 28ms/step - loss: 0.4868 - accuracy: 0.8539\n",
            "Epoch 2/100\n",
            "140/140 [==============================] - 2s 11ms/step - loss: 0.2294 - accuracy: 0.9042\n",
            "Epoch 3/100\n",
            "140/140 [==============================] - 1s 7ms/step - loss: 0.1780 - accuracy: 0.9372\n",
            "Epoch 4/100\n",
            "140/140 [==============================] - 1s 6ms/step - loss: 0.1721 - accuracy: 0.9370\n",
            "Epoch 5/100\n",
            "140/140 [==============================] - 1s 6ms/step - loss: 0.1657 - accuracy: 0.9405\n",
            "Epoch 6/100\n",
            "140/140 [==============================] - 1s 8ms/step - loss: 0.1615 - accuracy: 0.9455\n",
            "Epoch 7/100\n",
            "140/140 [==============================] - 2s 15ms/step - loss: 0.1605 - accuracy: 0.9437\n",
            "Epoch 8/100\n",
            "140/140 [==============================] - 2s 13ms/step - loss: 0.1587 - accuracy: 0.9446\n",
            "Epoch 9/100\n",
            "140/140 [==============================] - 1s 10ms/step - loss: 0.1568 - accuracy: 0.9441\n",
            "Epoch 10/100\n",
            "140/140 [==============================] - 1s 7ms/step - loss: 0.1557 - accuracy: 0.9482\n",
            "Epoch 11/100\n",
            "140/140 [==============================] - 1s 6ms/step - loss: 0.1538 - accuracy: 0.9475\n",
            "Epoch 12/100\n",
            "140/140 [==============================] - 1s 6ms/step - loss: 0.1541 - accuracy: 0.9455\n",
            "Epoch 13/100\n",
            "140/140 [==============================] - 1s 9ms/step - loss: 0.1516 - accuracy: 0.9473\n",
            "Epoch 14/100\n",
            "140/140 [==============================] - 1s 9ms/step - loss: 0.1521 - accuracy: 0.9473\n",
            "Epoch 15/100\n",
            "140/140 [==============================] - 1s 9ms/step - loss: 0.1503 - accuracy: 0.9493\n",
            "Epoch 16/100\n",
            "140/140 [==============================] - 1s 7ms/step - loss: 0.1511 - accuracy: 0.9479\n",
            "Epoch 17/100\n",
            "140/140 [==============================] - 1s 8ms/step - loss: 0.1480 - accuracy: 0.9488\n",
            "Epoch 18/100\n",
            "140/140 [==============================] - 1s 6ms/step - loss: 0.1475 - accuracy: 0.9473\n",
            "Epoch 19/100\n",
            "140/140 [==============================] - 1s 6ms/step - loss: 0.1461 - accuracy: 0.9497\n",
            "Epoch 20/100\n",
            "140/140 [==============================] - 1s 6ms/step - loss: 0.1452 - accuracy: 0.9495\n",
            "Epoch 21/100\n",
            "140/140 [==============================] - 1s 5ms/step - loss: 0.1445 - accuracy: 0.9491\n",
            "Epoch 22/100\n",
            "140/140 [==============================] - 1s 5ms/step - loss: 0.1440 - accuracy: 0.9488\n",
            "Epoch 23/100\n",
            "140/140 [==============================] - 1s 5ms/step - loss: 0.1429 - accuracy: 0.9491\n",
            "Epoch 24/100\n",
            "140/140 [==============================] - 1s 5ms/step - loss: 0.1415 - accuracy: 0.9509\n",
            "Epoch 25/100\n",
            "140/140 [==============================] - 1s 7ms/step - loss: 0.1418 - accuracy: 0.9495\n",
            "Epoch 26/100\n",
            "140/140 [==============================] - 1s 5ms/step - loss: 0.1403 - accuracy: 0.9515\n",
            "Epoch 27/100\n",
            "140/140 [==============================] - 1s 6ms/step - loss: 0.1397 - accuracy: 0.9511\n",
            "Epoch 28/100\n",
            "140/140 [==============================] - 1s 5ms/step - loss: 0.1391 - accuracy: 0.9502\n",
            "Epoch 29/100\n",
            "140/140 [==============================] - 1s 5ms/step - loss: 0.1393 - accuracy: 0.9500\n",
            "Epoch 30/100\n",
            "140/140 [==============================] - 1s 5ms/step - loss: 0.1375 - accuracy: 0.9524\n",
            "Epoch 31/100\n",
            "140/140 [==============================] - 1s 8ms/step - loss: 0.1378 - accuracy: 0.9509\n",
            "Epoch 32/100\n",
            "140/140 [==============================] - 1s 7ms/step - loss: 0.1369 - accuracy: 0.9506\n",
            "Epoch 33/100\n",
            "140/140 [==============================] - 1s 5ms/step - loss: 0.1365 - accuracy: 0.9500\n",
            "Epoch 34/100\n",
            "140/140 [==============================] - 1s 5ms/step - loss: 0.1357 - accuracy: 0.9515\n",
            "Epoch 35/100\n",
            "140/140 [==============================] - 1s 6ms/step - loss: 0.1348 - accuracy: 0.9524\n",
            "Epoch 36/100\n",
            "140/140 [==============================] - 2s 11ms/step - loss: 0.1324 - accuracy: 0.9540\n",
            "Epoch 37/100\n",
            "140/140 [==============================] - 1s 9ms/step - loss: 0.1315 - accuracy: 0.9540\n",
            "Epoch 38/100\n",
            "140/140 [==============================] - 1s 9ms/step - loss: 0.1308 - accuracy: 0.9551\n",
            "Epoch 39/100\n",
            "140/140 [==============================] - 1s 10ms/step - loss: 0.1307 - accuracy: 0.9536\n",
            "Epoch 40/100\n",
            "140/140 [==============================] - 2s 12ms/step - loss: 0.1322 - accuracy: 0.9542\n",
            "Epoch 41/100\n",
            "140/140 [==============================] - 2s 12ms/step - loss: 0.1284 - accuracy: 0.9569\n",
            "Epoch 42/100\n",
            "140/140 [==============================] - 1s 11ms/step - loss: 0.1300 - accuracy: 0.9549\n",
            "Epoch 43/100\n",
            "140/140 [==============================] - 1s 10ms/step - loss: 0.1274 - accuracy: 0.9567\n",
            "Epoch 44/100\n",
            "140/140 [==============================] - 1s 10ms/step - loss: 0.1251 - accuracy: 0.9578\n",
            "Epoch 45/100\n",
            "140/140 [==============================] - 1s 10ms/step - loss: 0.1260 - accuracy: 0.9571\n",
            "Epoch 46/100\n",
            "140/140 [==============================] - 1s 7ms/step - loss: 0.1243 - accuracy: 0.9592\n",
            "Epoch 47/100\n",
            "140/140 [==============================] - 1s 5ms/step - loss: 0.1248 - accuracy: 0.9549\n",
            "Epoch 48/100\n",
            "140/140 [==============================] - 1s 5ms/step - loss: 0.1278 - accuracy: 0.9558\n",
            "Epoch 49/100\n",
            "140/140 [==============================] - 1s 5ms/step - loss: 0.1243 - accuracy: 0.9589\n",
            "Epoch 50/100\n",
            "140/140 [==============================] - 1s 5ms/step - loss: 0.1206 - accuracy: 0.9594\n",
            "Epoch 51/100\n",
            "140/140 [==============================] - 1s 5ms/step - loss: 0.1208 - accuracy: 0.9596\n",
            "Epoch 52/100\n",
            "140/140 [==============================] - 1s 5ms/step - loss: 0.1191 - accuracy: 0.9619\n",
            "Epoch 53/100\n",
            "140/140 [==============================] - 1s 9ms/step - loss: 0.1175 - accuracy: 0.9607\n",
            "Epoch 54/100\n",
            "140/140 [==============================] - 1s 7ms/step - loss: 0.1180 - accuracy: 0.9596\n",
            "Epoch 55/100\n",
            "140/140 [==============================] - 1s 5ms/step - loss: 0.1204 - accuracy: 0.9587\n",
            "Epoch 56/100\n",
            "140/140 [==============================] - 1s 5ms/step - loss: 0.1166 - accuracy: 0.9619\n",
            "Epoch 57/100\n",
            "140/140 [==============================] - 1s 5ms/step - loss: 0.1158 - accuracy: 0.9596\n",
            "Epoch 58/100\n",
            "140/140 [==============================] - 1s 5ms/step - loss: 0.1153 - accuracy: 0.9612\n",
            "Epoch 59/100\n",
            "140/140 [==============================] - 1s 5ms/step - loss: 0.1134 - accuracy: 0.9634\n",
            "Epoch 60/100\n",
            "140/140 [==============================] - 1s 5ms/step - loss: 0.1130 - accuracy: 0.9630\n",
            "Epoch 61/100\n",
            "140/140 [==============================] - 1s 5ms/step - loss: 0.1137 - accuracy: 0.9621\n",
            "Epoch 62/100\n",
            "140/140 [==============================] - 1s 5ms/step - loss: 0.1132 - accuracy: 0.9639\n",
            "Epoch 63/100\n",
            "140/140 [==============================] - 1s 5ms/step - loss: 0.1103 - accuracy: 0.9634\n",
            "Epoch 64/100\n",
            "140/140 [==============================] - 1s 5ms/step - loss: 0.1101 - accuracy: 0.9650\n",
            "Epoch 65/100\n",
            "140/140 [==============================] - 1s 5ms/step - loss: 0.1127 - accuracy: 0.9641\n",
            "Epoch 66/100\n",
            "140/140 [==============================] - 1s 5ms/step - loss: 0.1104 - accuracy: 0.9641\n",
            "Epoch 67/100\n",
            "140/140 [==============================] - 1s 5ms/step - loss: 0.1095 - accuracy: 0.9648\n",
            "Epoch 68/100\n",
            "140/140 [==============================] - 1s 8ms/step - loss: 0.1149 - accuracy: 0.9619\n",
            "Epoch 69/100\n",
            "140/140 [==============================] - 1s 7ms/step - loss: 0.1067 - accuracy: 0.9663\n",
            "Epoch 70/100\n",
            "140/140 [==============================] - 1s 5ms/step - loss: 0.1073 - accuracy: 0.9657\n",
            "Epoch 71/100\n",
            "140/140 [==============================] - 1s 5ms/step - loss: 0.1054 - accuracy: 0.9663\n",
            "Epoch 72/100\n",
            "140/140 [==============================] - 1s 5ms/step - loss: 0.1039 - accuracy: 0.9681\n",
            "Epoch 73/100\n",
            "140/140 [==============================] - 1s 5ms/step - loss: 0.1078 - accuracy: 0.9637\n",
            "Epoch 74/100\n",
            "140/140 [==============================] - 1s 5ms/step - loss: 0.1087 - accuracy: 0.9641\n",
            "Epoch 75/100\n",
            "140/140 [==============================] - 1s 5ms/step - loss: 0.1046 - accuracy: 0.9684\n",
            "Epoch 76/100\n",
            "140/140 [==============================] - 1s 5ms/step - loss: 0.1050 - accuracy: 0.9663\n",
            "Epoch 77/100\n",
            "140/140 [==============================] - 1s 5ms/step - loss: 0.1024 - accuracy: 0.9672\n",
            "Epoch 78/100\n",
            "140/140 [==============================] - 1s 5ms/step - loss: 0.0994 - accuracy: 0.9699\n",
            "Epoch 79/100\n",
            "140/140 [==============================] - 1s 5ms/step - loss: 0.0998 - accuracy: 0.9693\n",
            "Epoch 80/100\n",
            "140/140 [==============================] - 1s 5ms/step - loss: 0.0999 - accuracy: 0.9695\n",
            "Epoch 81/100\n",
            "140/140 [==============================] - 1s 5ms/step - loss: 0.1011 - accuracy: 0.9688\n",
            "Epoch 82/100\n",
            "140/140 [==============================] - 1s 6ms/step - loss: 0.0966 - accuracy: 0.9715\n",
            "Epoch 83/100\n",
            "140/140 [==============================] - 1s 7ms/step - loss: 0.0955 - accuracy: 0.9711\n",
            "Epoch 84/100\n",
            "140/140 [==============================] - 1s 8ms/step - loss: 0.0969 - accuracy: 0.9711\n",
            "Epoch 85/100\n",
            "140/140 [==============================] - 1s 5ms/step - loss: 0.0962 - accuracy: 0.9708\n",
            "Epoch 86/100\n",
            "140/140 [==============================] - 1s 5ms/step - loss: 0.0925 - accuracy: 0.9706\n",
            "Epoch 87/100\n",
            "140/140 [==============================] - 1s 5ms/step - loss: 0.0946 - accuracy: 0.9720\n",
            "Epoch 88/100\n",
            "140/140 [==============================] - 1s 5ms/step - loss: 0.0934 - accuracy: 0.9690\n",
            "Epoch 89/100\n",
            "140/140 [==============================] - 1s 6ms/step - loss: 0.0911 - accuracy: 0.9713\n",
            "Epoch 90/100\n",
            "140/140 [==============================] - 1s 5ms/step - loss: 0.0917 - accuracy: 0.9708\n",
            "Epoch 91/100\n",
            "140/140 [==============================] - 1s 7ms/step - loss: 0.1043 - accuracy: 0.9672\n",
            "Epoch 92/100\n",
            "140/140 [==============================] - 1s 6ms/step - loss: 0.0892 - accuracy: 0.9729\n",
            "Epoch 93/100\n",
            "140/140 [==============================] - 1s 5ms/step - loss: 0.0891 - accuracy: 0.9713\n",
            "Epoch 94/100\n",
            "140/140 [==============================] - 1s 5ms/step - loss: 0.0861 - accuracy: 0.9733\n",
            "Epoch 95/100\n",
            "140/140 [==============================] - 1s 5ms/step - loss: 0.0858 - accuracy: 0.9742\n",
            "Epoch 96/100\n",
            "140/140 [==============================] - 1s 5ms/step - loss: 0.0881 - accuracy: 0.9731\n",
            "Epoch 97/100\n",
            "140/140 [==============================] - 1s 6ms/step - loss: 0.0852 - accuracy: 0.9742\n",
            "Epoch 98/100\n",
            "140/140 [==============================] - 1s 8ms/step - loss: 0.0863 - accuracy: 0.9720\n",
            "Epoch 99/100\n",
            "140/140 [==============================] - 1s 6ms/step - loss: 0.0846 - accuracy: 0.9744\n",
            "Epoch 100/100\n",
            "140/140 [==============================] - 1s 5ms/step - loss: 0.0813 - accuracy: 0.9746\n"
          ]
        }
      ]
    },
    {
      "cell_type": "code",
      "source": [
        "plt.plot(history.history['accuracy'])\n",
        "plt.title('model accuracy')\n",
        "plt.ylabel('accuracy')\n",
        "plt.xlabel('epoch')\n",
        "plt.legend(['train', 'test'], loc='upper left')\n",
        "plt.show()"
      ],
      "metadata": {
        "colab": {
          "base_uri": "https://localhost:8080/",
          "height": 472
        },
        "id": "T8nfFNzjHCSg",
        "outputId": "86ae3da0-4d55-41c4-fdf7-2898e2d7af7a"
      },
      "execution_count": null,
      "outputs": [
        {
          "output_type": "display_data",
          "data": {
            "text/plain": [
              "<Figure size 640x480 with 1 Axes>"
            ],
            "image/png": "[encoded data removed]"
          },
          "metadata": {}
        }
      ]
    },
    {
      "cell_type": "code",
      "source": [
        "plt.plot(history.history['loss'])\n",
        "plt.title('model loss')\n",
        "plt.ylabel('loss')\n",
        "plt.xlabel('epoch')\n",
        "plt.legend(['train', 'test'], loc='upper left')\n",
        "plt.show()"
      ],
      "metadata": {
        "colab": {
          "base_uri": "https://localhost:8080/",
          "height": 472
        },
        "id": "PtPi3WBUNH4v",
        "outputId": "b3171be3-c130-4a8f-d6d7-9329b6d57c5a"
      },
      "execution_count": null,
      "outputs": [
        {
          "output_type": "display_data",
          "data": {
            "text/plain": [
              "<Figure size 640x480 with 1 Axes>"
            ],
            "image/png": "[encoded data removed]"
          },
          "metadata": {}
        }
      ]
    },
    {
      "cell_type": "code",
      "source": [
        "print(model.predict([\n",
        "  \"Free entry in 2 a wkly comp to win FA Cup fina...\",\n",
        "]))"
      ],
      "metadata": {
        "colab": {
          "base_uri": "https://localhost:8080/"
        },
        "id": "huOpiokcNl4Z",
        "outputId": "e2659765-64a6-4861-ff89-878b15420721"
      },
      "execution_count": null,
      "outputs": [
        {
          "output_type": "stream",
          "name": "stdout",
          "text": [
            "1/1 [==============================] - 0s 465ms/step\n",
            "[[0.817792]]\n"
          ]
        }
      ]
    },
    {
      "cell_type": "code",
      "source": [
        "print(model.predict([\n",
        "  \"Where are you Dear\",\n",
        "]))"
      ],
      "metadata": {
        "colab": {
          "base_uri": "https://localhost:8080/"
        },
        "id": "-e_V9XARNwSL",
        "outputId": "75e2ea90-9303-4789-f1a6-e8320f9ee137"
      },
      "execution_count": null,
      "outputs": [
        {
          "output_type": "stream",
          "name": "stdout",
          "text": [
            "1/1 [==============================] - 0s 49ms/step\n",
            "[[0.01205911]]\n"
          ]
        }
      ]
    },
    {
      "cell_type": "code",
      "source": [
        "e = model.layers[1]\n",
        "weights = e.get_weights()[0]\n",
        "print(weights.shape)"
      ],
      "metadata": {
        "colab": {
          "base_uri": "https://localhost:8080/"
        },
        "id": "ypcY6RtOUzrT",
        "outputId": "51e15605-2269-4a03-b4cd-e8f904d6a757"
      },
      "execution_count": null,
      "outputs": [
        {
          "output_type": "stream",
          "name": "stdout",
          "text": [
            "(101, 8)\n"
          ]
        }
      ]
    },
    {
      "cell_type": "code",
      "source": [
        "import io\n",
        "out_v = io.open('vecs.tsv', 'w', encoding='utf-8')\n",
        "out_m = io.open('meta.tsv', 'w', encoding='utf-8')\n",
        "for word_num in range(1, max_tokens):\n",
        "  word = reverse_word_index[word_num]\n",
        "  embeddings = weights[word_num]\n",
        "  out_m.write(word + \"\\n\")\n",
        "  out_v.write('\\t'.join([str(x) for x in embeddings]) + \"\\n\")\n",
        "out_v.close()\n",
        "out_m.close()"
      ],
      "metadata": {
        "id": "ls2v8dTHVh_c"
      },
      "execution_count": null,
      "outputs": []
    },
    {
      "cell_type": "code",
      "source": [
        "try:\n",
        "  from google.colab import files\n",
        "except ImportError:\n",
        "  pass\n",
        "else:\n",
        "  files.download('vecs.tsv')\n",
        "  files.download('meta.tsv')"
      ],
      "metadata": {
        "colab": {
          "base_uri": "https://localhost:8080/",
          "height": 17
        },
        "id": "el1shozeVyT0",
        "outputId": "310229ad-c146-461c-dbce-bb78853ea0b7"
      },
      "execution_count": null,
      "outputs": [
        {
          "output_type": "display_data",
          "data": {
            "text/plain": [
              "<IPython.core.display.Javascript object>"
            ],
            "application/javascript": [
              "\n",
              "    async function download(id, filename, size) {\n",
              "      if (!google.colab.kernel.accessAllowed) {\n",
              "        return;\n",
              "      }\n",
              "      const div = document.createElement('div');\n",
              "      const label = document.createElement('label');\n",
              "      label.textContent = `Downloading \"${filename}\": `;\n",
              "      div.appendChild(label);\n",
              "      const progress = document.createElement('progress');\n",
              "      progress.max = size;\n",
              "      div.appendChild(progress);\n",
              "      document.body.appendChild(div);\n",
              "\n",
              "      const buffers = [];\n",
              "      let downloaded = 0;\n",
              "\n",
              "      const channel = await google.colab.kernel.comms.open(id);\n",
              "      // Send a message to notify the kernel that we're ready.\n",
              "      channel.send({})\n",
              "\n",
              "      for await (const message of channel.messages) {\n",
              "        // Send a message to notify the kernel that we're ready.\n",
              "        channel.send({})\n",
              "        if (message.buffers) {\n",
              "          for (const buffer of message.buffers) {\n",
              "            buffers.push(buffer);\n",
              "            downloaded += buffer.byteLength;\n",
              "            progress.value = downloaded;\n",
              "          }\n",
              "        }\n",
              "      }\n",
              "      const blob = new Blob(buffers, {type: 'application/binary'});\n",
              "      const a = document.createElement('a');\n",
              "      a.href = window.URL.createObjectURL(blob);\n",
              "      a.download = filename;\n",
              "      div.appendChild(a);\n",
              "      a.click();\n",
              "      div.remove();\n",
              "    }\n",
              "  "
            ]
          },
          "metadata": {}
        },
        {
          "output_type": "display_data",
          "data": {
            "text/plain": [
              "<IPython.core.display.Javascript object>"
            ],
            "application/javascript": [
              "download(\"download_073f9964-8e81-4f02-b8d9-721260313d46\", \"vecs.tsv\", 9084)"
            ]
          },
          "metadata": {}
        },
        {
          "output_type": "display_data",
          "data": {
            "text/plain": [
              "<IPython.core.display.Javascript object>"
            ],
            "application/javascript": [
              "\n",
              "    async function download(id, filename, size) {\n",
              "      if (!google.colab.kernel.accessAllowed) {\n",
              "        return;\n",
              "      }\n",
              "      const div = document.createElement('div');\n",
              "      const label = document.createElement('label');\n",
              "      label.textContent = `Downloading \"${filename}\": `;\n",
              "      div.appendChild(label);\n",
              "      const progress = document.createElement('progress');\n",
              "      progress.max = size;\n",
              "      div.appendChild(progress);\n",
              "      document.body.appendChild(div);\n",
              "\n",
              "      const buffers = [];\n",
              "      let downloaded = 0;\n",
              "\n",
              "      const channel = await google.colab.kernel.comms.open(id);\n",
              "      // Send a message to notify the kernel that we're ready.\n",
              "      channel.send({})\n",
              "\n",
              "      for await (const message of channel.messages) {\n",
              "        // Send a message to notify the kernel that we're ready.\n",
              "        channel.send({})\n",
              "        if (message.buffers) {\n",
              "          for (const buffer of message.buffers) {\n",
              "            buffers.push(buffer);\n",
              "            downloaded += buffer.byteLength;\n",
              "            progress.value = downloaded;\n",
              "          }\n",
              "        }\n",
              "      }\n",
              "      const blob = new Blob(buffers, {type: 'application/binary'});\n",
              "      const a = document.createElement('a');\n",
              "      a.href = window.URL.createObjectURL(blob);\n",
              "      a.download = filename;\n",
              "      div.appendChild(a);\n",
              "      a.click();\n",
              "      div.remove();\n",
              "    }\n",
              "  "
            ]
          },
          "metadata": {}
        },
        {
          "output_type": "display_data",
          "data": {
            "text/plain": [
              "<IPython.core.display.Javascript object>"
            ],
            "application/javascript": [
              "download(\"download_bf86883a-981a-477e-8065-dcb2c3c451b1\", \"meta.tsv\", 411)"
            ]
          },
          "metadata": {}
        }
      ]
    },
    {
      "cell_type": "code",
      "source": [
        "words = np.loadtxt('meta.tsv', skiprows=1, dtype=str)\n",
        "words"
      ],
      "metadata": {
        "colab": {
          "base_uri": "https://localhost:8080/"
        },
        "id": "OeD0qGPHV008",
        "outputId": "36478597-e607-4121-8b1c-e53b8daeba76"
      },
      "execution_count": null,
      "outputs": [
        {
          "output_type": "execute_result",
          "data": {
            "text/plain": [
              "array(['to', 'i', 'you', 'a', 'the', 'u', 'and', 'is', 'in', 'me', 'my',\n",
              "       'for', 'your', 'of', 'it', 'call', 'have', 'on', 'that', 'are',\n",
              "       'now', '2', 'im', 'so', 'or', 'but', 'not', 'ur', 'at', 'get',\n",
              "       'can', 'be', 'do', 'with', 'will', 'if', 'just', 'we', 'no', 'up',\n",
              "       'this', 'its', 'dont', 'when', 'from', 'go', 'all', 'how', 'free',\n",
              "       '4', 'what', 'out', 'ok', 'ltgt', 'know', 'good', 'like', 'come',\n",
              "       'ill', 'am', 'got', 'then', 'was', 'only', 'day', 'time', 'there',\n",
              "       'want', 'text', 'love', 'send', 'as', 'by', 'one', 'going', 'need',\n",
              "       'he', 'see', 'about', 'txt', 'r', 'lor', 'home', 'stop', 'sorry',\n",
              "       'still', 'our', 'today', 'hi', 'n', 'mobile', 'back', 'new',\n",
              "       'please', 'reply', 'been', 'tell', 'think'], dtype='<U6')"
            ]
          },
          "metadata": {},
          "execution_count": 26
        }
      ]
    },
    {
      "cell_type": "code",
      "source": [
        "vectors = np.loadtxt('vecs.tsv', skiprows=1)\n",
        "vectors"
      ],
      "metadata": {
        "colab": {
          "base_uri": "https://localhost:8080/"
        },
        "id": "WWpf3KvAV6KL",
        "outputId": "6e3b0594-a3b3-4f7c-8f1e-62d736f74353"
      },
      "execution_count": null,
      "outputs": [
        {
          "output_type": "execute_result",
          "data": {
            "text/plain": [
              "array([[-3.52265240e-02, -1.40993980e-01, -1.51144270e-01,\n",
              "         1.78810750e-01,  1.71792630e-01, -2.42214890e-01,\n",
              "         1.57953600e-01,  9.61240100e-02],\n",
              "       [ 2.45493490e-01,  3.04421840e-01,  5.45449600e-01,\n",
              "        -1.13466180e-01, -1.53937000e-01,  2.16941030e-01,\n",
              "        -2.29417250e-01, -5.95340400e-01],\n",
              "       [ 8.26670200e-02, -4.77832850e-02, -3.78844700e-02,\n",
              "         3.65753770e-01, -6.72299340e-02, -1.15204000e-02,\n",
              "         5.92683330e-02,  2.61309560e-02],\n",
              "       [-7.79702700e-02,  3.60735300e-02, -1.28860880e-01,\n",
              "        -3.74719770e-01,  5.03890000e-02,  2.13155200e-02,\n",
              "         9.82234300e-02, -6.60618250e-02],\n",
              "       [ 6.05062430e-02, -1.50933530e-02,  2.90420990e-02,\n",
              "         1.70064230e-01, -5.05554640e-02,  6.03987870e-02,\n",
              "        -6.57684360e-02, -2.94193740e-02],\n",
              "       [-3.07392240e-02,  2.08996400e-02,  3.84997950e-02,\n",
              "        -6.56960370e-01, -6.23921600e-03,  9.81800560e-02,\n",
              "        -1.26072740e-02, -1.07745680e-01],\n",
              "       [-1.22185720e-01, -6.10900070e-02, -1.48605880e-01,\n",
              "         8.31385430e-01,  4.42347400e-02,  9.53887400e-02,\n",
              "         1.02074130e-01,  8.22801440e-02],\n",
              "       [ 9.81873400e-02,  1.04950280e-01,  5.27742130e-02,\n",
              "        -2.02290310e-01, -2.69700210e-02,  2.33873390e-02,\n",
              "        -8.86360800e-02, -9.22470540e-02],\n",
              "       [ 1.87798380e-01,  1.73382910e-01,  5.29371950e-02,\n",
              "        -3.58693670e-02, -1.54990460e-01,  1.06230220e-01,\n",
              "        -2.01133620e-01, -1.19141035e-01],\n",
              "       [ 1.00084650e-01,  3.01165370e-01,  6.43819600e-01,\n",
              "         1.49367230e-01, -2.26481850e-01,  2.58338150e-01,\n",
              "         3.53950500e-02, -5.83257560e-01],\n",
              "       [ 1.08900150e+00,  7.88025300e-01,  8.44619700e-01,\n",
              "        -9.40158550e-01, -5.61179640e-01,  5.36079940e-01,\n",
              "        -7.52922800e-01, -8.13343200e-01],\n",
              "       [-8.13302600e-02,  3.79098770e-02, -2.12755930e-02,\n",
              "        -4.77023150e-01, -7.52655000e-02,  9.06963650e-02,\n",
              "        -6.42157860e-03,  6.77694400e-02],\n",
              "       [-2.84512300e-01, -3.66351340e-01, -1.85989410e-01,\n",
              "         1.92228470e-01,  3.19421800e-01, -2.96980500e-01,\n",
              "         1.66441360e-03,  4.46871000e-01],\n",
              "       [-7.54062650e-03,  1.12158570e-01, -2.19955670e-02,\n",
              "        -2.01468000e-01, -1.40757840e-01,  1.20752364e-01,\n",
              "         1.25341000e-02, -6.03829200e-03],\n",
              "       [ 3.34139530e-01,  3.60354300e-01,  3.86625680e-01,\n",
              "        -9.50052860e-01, -2.30779740e-01,  2.56990020e-01,\n",
              "        -4.76218430e-01, -1.85010310e-01],\n",
              "       [-2.78039300e-01, -3.37348040e-01, -4.62126430e-01,\n",
              "        -1.79669750e-01,  3.30776750e-01, -1.73122110e-01,\n",
              "         3.50632550e-01,  3.87331520e-01],\n",
              "       [-1.28192350e-01, -1.31943150e-01,  1.88713870e-02,\n",
              "        -3.94278700e-01,  1.14371530e-01, -1.01849295e-01,\n",
              "        -2.30031460e-02, -1.53743280e-02],\n",
              "       [ 4.80623400e-02,  1.35914030e-01,  2.88008600e-02,\n",
              "         3.16180260e-01, -2.18349440e-03, -9.64143800e-02,\n",
              "         2.41835130e-01, -3.28522900e-01],\n",
              "       [ 8.20595300e-01,  6.93314730e-01,  6.06437000e-01,\n",
              "        -3.85013730e-01, -6.09447240e-01,  6.54615040e-01,\n",
              "        -9.24147300e-01, -5.65318170e-01],\n",
              "       [ 8.63689400e-03, -1.22291730e-01,  1.83054910e-01,\n",
              "         4.93632320e-01,  1.02083140e-01, -5.43615000e-02,\n",
              "         3.54793520e-02,  2.62301000e-02],\n",
              "       [-6.34915900e-02, -6.77495400e-02, -7.61617000e-03,\n",
              "        -2.24416050e-01,  2.81823280e-01, -2.89111760e-01,\n",
              "         4.88117520e-02, -5.81276560e-03],\n",
              "       [ 1.33446220e-03, -2.79494600e-02, -3.48120600e-01,\n",
              "         1.31856620e-01,  5.58312160e-02, -5.54648340e-02,\n",
              "         1.18463760e-01,  1.41680300e-01],\n",
              "       [ 4.41836700e-01,  5.68773500e-01,  3.15872070e-01,\n",
              "         2.34435590e-01, -3.79179630e-01,  3.89908130e-01,\n",
              "        -2.93250750e-02, -4.32364900e-01],\n",
              "       [ 2.19728470e-01,  2.31541100e-01,  2.73831800e-01,\n",
              "        -6.51066360e-01, -2.16825380e-01,  1.82020870e-01,\n",
              "        -1.73533290e-01, -2.68058750e-01],\n",
              "       [-6.85559960e-02, -7.29327100e-02,  2.01170060e-01,\n",
              "        -5.25513600e-01,  1.08111195e-01, -6.39507500e-02,\n",
              "        -8.40711100e-02,  4.56775070e-03],\n",
              "       [ 3.06733130e-01,  2.44252250e-01,  2.21624310e-01,\n",
              "        -3.76032050e-01, -2.44837460e-01,  2.47472000e-01,\n",
              "        -4.23337460e-01, -2.97000990e-02],\n",
              "       [ 1.57281760e-01,  9.96647400e-02,  1.24148460e-01,\n",
              "         3.64488700e-01, -1.17599290e-01,  1.44946890e-01,\n",
              "        -2.82548760e-01, -1.01014850e-01],\n",
              "       [ 9.20733900e-02, -1.23250360e-01, -6.97296500e-02,\n",
              "         4.09749360e-01,  2.55460230e-01, -4.86767300e-01,\n",
              "        -3.11792050e-01,  4.32236430e-01],\n",
              "       [ 1.31732420e-01,  1.03814535e-01,  2.42822130e-02,\n",
              "         8.49475400e-02, -4.34637300e-02, -1.92035900e-02,\n",
              "        -3.40232140e-02, -7.56124400e-02],\n",
              "       [ 4.41131550e-02, -1.38407380e-01, -1.00980970e-01,\n",
              "        -8.80108400e-03,  1.46181930e-01, -8.23677550e-02,\n",
              "        -4.26702570e-02,  8.70439860e-02],\n",
              "       [-6.99653760e-05,  1.88638590e-02, -1.89213380e-01,\n",
              "        -1.56909960e-01, -4.09784900e-02,  3.33567000e-02,\n",
              "        -3.42997050e-02,  1.22899845e-01],\n",
              "       [ 1.38920560e-01,  3.20655900e-02,  1.02080435e-01,\n",
              "         1.70341910e-01,  6.90558100e-02, -3.98979600e-02,\n",
              "         3.09818500e-02, -5.38706370e-02],\n",
              "       [ 2.46647760e-01,  2.92795270e-01,  1.49900850e-01,\n",
              "         4.78746560e-02, -3.29252840e-01,  3.78705020e-01,\n",
              "        -2.62902020e-01, -2.09632720e-01],\n",
              "       [-4.63648250e-02, -5.70819400e-02, -2.57606030e-01,\n",
              "         4.36704070e-01,  4.34213730e-02,  3.67965500e-02,\n",
              "         1.86964780e-01,  9.52332240e-02],\n",
              "       [ 2.12773030e-01,  8.35149600e-02,  4.94600270e-02,\n",
              "         1.16440800e-02,  2.81777920e-02,  3.84407650e-03,\n",
              "        -3.46358480e-01,  6.15058400e-02],\n",
              "       [ 4.00354900e-02,  2.15988170e-01,  2.04012260e-01,\n",
              "        -1.05894500e-01, -1.29865900e-01,  2.58850750e-01,\n",
              "         2.27024180e-01, -2.70329650e-01],\n",
              "       [ 6.40724600e-02,  5.38385320e-02,  1.85785380e-01,\n",
              "        -7.64953300e-01, -4.59326950e-02,  4.72922200e-03,\n",
              "         3.26192500e-02, -2.86037300e-01],\n",
              "       [ 1.60612900e-01,  6.21047650e-02,  2.83117330e-02,\n",
              "         6.01178400e-01, -1.04127960e-01,  1.00630610e-01,\n",
              "        -1.42754500e-01,  2.08185040e-02],\n",
              "       [ 8.34213900e-02,  4.55093200e-02,  2.49800600e-01,\n",
              "        -2.94427500e-01,  1.01640806e-01, -6.56843300e-02,\n",
              "         2.27581160e-01, -2.46707440e-01],\n",
              "       [ 5.90308600e-01,  4.50681200e-01,  4.22624500e-01,\n",
              "         7.08566400e-03, -2.77584200e-01,  3.00212300e-01,\n",
              "        -5.19575240e-01, -4.27421180e-01],\n",
              "       [-2.87540870e-02, -1.74560300e-01, -2.29416790e-01,\n",
              "         1.78077460e-01,  1.17460810e-01, -1.32490370e-01,\n",
              "         1.52429860e-01,  1.37973600e-01],\n",
              "       [ 9.13944800e-01,  7.00614700e-01,  7.22765000e-01,\n",
              "        -4.28464600e-01, -1.08869310e+00,  8.38999870e-01,\n",
              "        -1.26238870e+00, -1.04316080e-01],\n",
              "       [ 3.22422300e-01,  3.20521030e-01,  2.93993000e-01,\n",
              "        -8.03699600e-02, -3.72912380e-01,  3.80011020e-01,\n",
              "        -3.61939730e-01, -3.03736200e-01],\n",
              "       [ 8.27684500e-01,  9.63476000e-01,  9.83685730e-01,\n",
              "        -9.05778050e-01, -9.16138700e-01,  6.93998340e-01,\n",
              "        -9.76133640e-01, -6.04235100e-01],\n",
              "       [-1.45950100e-01, -2.58541460e-01, -1.20520115e-01,\n",
              "         2.42458150e-01,  2.08665190e-01, -1.82143550e-01,\n",
              "         1.45102440e-01,  1.64385150e-01],\n",
              "       [ 4.14806000e-01,  3.10577540e-01,  2.89363650e-01,\n",
              "        -8.46065640e-01, -1.95928050e-01,  1.82315170e-01,\n",
              "        -5.78403000e-01, -1.73871200e-01],\n",
              "       [ 1.51690870e-01,  1.39343860e-01,  1.23910144e-01,\n",
              "         9.11839000e-02, -1.70738320e-01,  1.48803460e-01,\n",
              "        -3.85146500e-01, -1.03040114e-01],\n",
              "       [ 9.65194050e-01,  8.60131700e-01,  8.95860100e-01,\n",
              "        -9.83270500e-01, -8.05129900e-01,  7.13752570e-01,\n",
              "        -1.00772740e+00, -6.36192500e-01],\n",
              "       [-6.53863970e-01, -6.47763700e-01, -7.32794600e-01,\n",
              "        -4.76283670e-01,  5.93673650e-01, -6.07789500e-01,\n",
              "         5.33777800e-01,  7.00275960e-01],\n",
              "       [ 7.99476800e-02, -1.11492860e-01,  8.89970360e-02,\n",
              "        -5.58474570e-03,  3.49912020e-01, -4.26354680e-01,\n",
              "        -7.50772900e-02,  1.41116070e-01],\n",
              "       [ 8.49681650e-02,  6.79618400e-02,  7.57240040e-03,\n",
              "        -3.42280300e-01, -2.22502130e-02,  4.35614440e-02,\n",
              "        -7.91139700e-02, -5.84984120e-02],\n",
              "       [ 7.29171930e-01,  3.98851500e-01,  2.27863800e-01,\n",
              "         2.51692980e-01, -2.05791440e-01,  2.20343490e-01,\n",
              "        -8.23853850e-01, -4.30559480e-02],\n",
              "       [ 1.70569660e-01,  2.88225080e-01,  5.30750700e-01,\n",
              "        -2.15605260e-01, -2.18016390e-01,  2.01786470e-01,\n",
              "        -4.55735560e-01, -2.47070370e-01],\n",
              "       [ 1.08378460e+00,  7.84276300e-01,  6.61697900e-01,\n",
              "        -2.23515700e+00, -6.79269430e-01,  4.46780030e-01,\n",
              "        -7.19055100e-01, -9.15486630e-01],\n",
              "       [ 1.58843100e-01,  1.13919170e-02, -9.77020040e-02,\n",
              "        -1.10726700e-01,  7.49627350e-02,  6.81869100e-03,\n",
              "        -2.42110250e-01,  6.27688840e-02],\n",
              "       [ 6.84028500e-02,  7.82258660e-02, -5.82615030e-02,\n",
              "         5.06046300e-01,  1.39885540e-02,  3.72999160e-02,\n",
              "        -6.05343130e-02,  2.39498500e-02],\n",
              "       [ 7.30315500e-02,  6.98906300e-02,  6.03816700e-02,\n",
              "        -5.82293200e-01, -1.16696730e-01,  7.99280260e-02,\n",
              "        -1.79274290e-01, -6.92043900e-02],\n",
              "       [ 1.09425950e+00,  8.98668940e-01,  6.20761100e-01,\n",
              "        -2.27401800e+00, -7.37003100e-01,  5.95948700e-01,\n",
              "        -8.12029000e-01, -9.56101100e-01],\n",
              "       [ 1.11252560e+00,  9.41036500e-01,  9.22497800e-01,\n",
              "        -1.71902950e+00, -9.32379660e-01,  8.19438340e-01,\n",
              "        -7.87425600e-01, -1.13521390e+00],\n",
              "       [ 4.08619940e-01,  1.72653590e-01, -2.88789510e-02,\n",
              "         5.28537750e-01,  1.17033520e-02, -6.51156400e-02,\n",
              "        -3.25747950e-02, -1.53249950e-01],\n",
              "       [ 6.79853260e-01,  5.27907100e-01,  3.09016260e-01,\n",
              "        -1.92444490e-01, -5.03361800e-01,  4.74889580e-01,\n",
              "        -8.88799300e-01, -1.90152570e-01],\n",
              "       [ 4.16598920e-01,  3.38832380e-01,  4.15618660e-01,\n",
              "        -1.73551270e+00, -2.97374400e-01,  1.30317880e-01,\n",
              "        -6.02936600e-01, -1.67931530e-01],\n",
              "       [ 6.24669450e-02,  1.34154650e-01,  8.98491600e-01,\n",
              "        -3.88127420e-01, -9.73880700e-02,  1.64447840e-02,\n",
              "         5.46351340e-02, -5.97827900e-01],\n",
              "       [ 1.64255720e-01,  6.32044000e-02, -4.31848300e-02,\n",
              "         2.11371030e-01,  1.64427980e-02,  1.52637700e-02,\n",
              "        -7.37007260e-02,  3.75467050e-02],\n",
              "       [ 4.35023730e-01,  1.84121620e-01, -4.10739700e-02,\n",
              "         3.04189100e-01, -1.52695020e-01,  1.93030760e-01,\n",
              "        -4.62925430e-01, -1.79057530e-02],\n",
              "       [ 1.40255940e-01,  4.78784960e-02,  8.40627800e-02,\n",
              "        -2.29540170e-01,  3.32767550e-02, -2.91196500e-02,\n",
              "        -3.37889220e-01, -2.73045150e-02],\n",
              "       [ 8.14631200e-02,  7.04662600e-02,  2.86291520e-02,\n",
              "        -3.24017970e-01, -1.72159260e-02,  4.44334450e-02,\n",
              "        -1.00910520e-01, -4.31666860e-02],\n",
              "       [ 8.90179350e-02, -4.39405850e-02, -1.80518350e-02,\n",
              "        -1.92391460e-01,  1.90665220e-01, -2.07116470e-01,\n",
              "        -3.63720770e-01,  2.23618920e-01],\n",
              "       [-5.30436500e-01, -3.92519030e-01, -7.70818770e-01,\n",
              "        -3.39869950e-01,  7.36538400e-01, -7.60651200e-01,\n",
              "         6.74993930e-01,  2.70085330e-01],\n",
              "       [-1.87716130e-01,  7.17705100e-02,  6.98430060e-01,\n",
              "        -4.46648360e-01, -4.22155040e-02, -2.03712330e-01,\n",
              "         5.40051200e-02, -1.87958000e-01],\n",
              "       [-2.53676330e-01, -1.64991380e-01,  6.52453300e-01,\n",
              "         2.39989950e-01,  2.02345010e-01, -9.89511700e-02,\n",
              "         1.72241370e-01, -3.20262600e-01],\n",
              "       [ 5.92431350e-02, -9.50218800e-03, -3.94567700e-01,\n",
              "         2.82587980e-01,  2.17629170e-02,  6.73096440e-03,\n",
              "        -4.52802450e-01,  3.07021860e-01],\n",
              "       [ 1.34983670e-01,  2.78251230e-02,  5.76033000e-02,\n",
              "        -2.89095730e-01,  3.31186060e-02,  4.39794360e-03,\n",
              "        -1.96879730e-01,  4.86569480e-02],\n",
              "       [ 6.89720200e-02,  1.33658410e-01,  8.03569000e-02,\n",
              "        -5.80040040e-01, -5.34410800e-02,  6.08613000e-02,\n",
              "        -2.62128560e-01, -6.55887200e-02],\n",
              "       [ 1.92457740e-03,  1.26173780e-01,  5.83387260e-01,\n",
              "         4.41622820e-01, -3.23446180e-01,  4.69295400e-01,\n",
              "        -2.74943580e-02, -8.75051200e-01],\n",
              "       [ 8.47303800e-02,  8.04344100e-02,  1.39350270e-01,\n",
              "        -9.63548000e-02, -1.23377150e-01,  6.74562100e-02,\n",
              "         2.31684670e-02, -1.00109756e-01],\n",
              "       [ 7.85802360e-01,  6.60620900e-01,  4.44715170e-01,\n",
              "        -2.50244900e+00, -5.76879860e-01,  5.04202070e-01,\n",
              "        -4.25103570e-01, -9.09331000e-01],\n",
              "       [ 7.36849500e-02,  7.28730700e-02,  3.28196140e-02,\n",
              "        -1.02875710e+00, -2.18351240e-01,  2.75581360e-01,\n",
              "        -2.17592100e-01,  7.69361000e-02],\n",
              "       [ 3.95665230e-01,  1.70581640e-01,  1.85567990e-01,\n",
              "        -1.54844580e-01,  7.82846100e-02, -1.16703030e-01,\n",
              "        -6.52628960e-01,  6.63567260e-02],\n",
              "       [-8.66609450e-01, -7.82881000e-01, -4.38799050e-01,\n",
              "        -6.46070240e-01,  8.17911570e-01, -7.06249900e-01,\n",
              "         6.66077500e-01,  5.55078270e-01],\n",
              "       [-1.23743760e-02, -5.89711600e-02,  1.43027725e-02,\n",
              "        -5.95572500e-01,  1.91418170e-02, -2.86471450e-02,\n",
              "        -6.92932900e-02, -3.37543000e-02],\n",
              "       [ 6.88558940e-01,  5.23684560e-01, -3.29388200e-01,\n",
              "        -2.26850200e+00, -6.41182800e-01,  4.94561460e-01,\n",
              "        -4.76611800e-01, -4.71816120e-01],\n",
              "       [ 2.11753040e-02,  2.50146930e-01,  1.13524280e+00,\n",
              "         5.86022560e-01, -2.77898430e-01, -6.57961350e-04,\n",
              "         2.53198720e-02, -2.72335080e-01],\n",
              "       [-3.89075730e-02,  1.32524550e-03,  6.53996800e-02,\n",
              "        -2.59194800e-01,  6.85329200e-02, -7.97492300e-02,\n",
              "         4.29617800e-02, -1.33289050e-01],\n",
              "       [ 7.63108300e-01,  6.39716740e-01,  5.38221100e-01,\n",
              "        -6.09823600e-01, -6.09940000e-01,  3.81276670e-01,\n",
              "        -7.52313500e-01, -3.83937780e-01],\n",
              "       [ 3.42405860e-01,  2.39887900e-01,  3.17805020e-01,\n",
              "        -1.01865380e+00, -1.43384020e-01,  1.31485850e-01,\n",
              "        -4.41328020e-01, -2.98417700e-01],\n",
              "       [-8.62825700e-02, -1.40353470e-01, -2.17257510e-01,\n",
              "         1.39820070e-01,  1.48100020e-01, -2.02353060e-01,\n",
              "         4.11214320e-01, -5.64245060e-02],\n",
              "       [ 4.87057000e-02,  4.66731750e-02,  1.32463470e-01,\n",
              "        -1.65107060e-01,  1.03858290e-01, -1.85945620e-01,\n",
              "         5.52237260e-02, -1.32998300e-01],\n",
              "       [ 1.07223320e-01,  1.19526796e-01,  1.30295230e-01,\n",
              "         3.81056400e-02, -1.24725975e-01,  9.52087400e-02,\n",
              "        -9.64485400e-03, -1.35362820e-01],\n",
              "       [ 3.57998940e-01,  1.37779270e-01,  2.74711800e-02,\n",
              "         3.69757060e-01, -1.53687030e-01,  1.06470110e-01,\n",
              "        -5.92190860e-01,  3.75806100e-02],\n",
              "       [-1.74222710e-01, -1.12843970e-01, -2.53613180e-03,\n",
              "        -1.59582710e+00,  9.32806900e-02, -1.19041070e-01,\n",
              "         5.84326400e-03,  6.82867240e-02],\n",
              "       [ 5.62674100e-01,  1.84690460e-01, -1.01646334e-01,\n",
              "         2.96808300e-01, -1.81300480e-01,  1.99187380e-01,\n",
              "        -6.05526030e-01,  4.78221550e-02],\n",
              "       [-3.72779800e-01, -3.70443550e-01, -5.81222100e-01,\n",
              "        -7.94704800e-03,  4.08414270e-01, -2.29552460e-01,\n",
              "         3.58080380e-02,  8.00691840e-01],\n",
              "       [ 1.44390500e-01,  1.78376140e-01,  3.37659840e-01,\n",
              "        -1.62455520e+00, -8.98067500e-02,  7.63241050e-02,\n",
              "        -3.94945060e-01, -8.95576600e-02],\n",
              "       [-2.28083970e-01, -1.88794960e-01,  2.74045350e-01,\n",
              "        -8.05387000e-01,  4.62194110e-01, -4.26144330e-01,\n",
              "        -2.42616560e-01,  1.50300640e-01],\n",
              "       [-6.91063500e-02, -4.15066740e-02, -3.21417030e-01,\n",
              "         8.80395800e-02, -9.63794000e-02,  3.05102930e-03,\n",
              "         5.24897500e-01,  6.57710060e-02],\n",
              "       [ 6.74049100e-01,  6.50057730e-01,  7.44584860e-01,\n",
              "        -7.63102600e-01, -5.86403550e-01,  5.26617700e-01,\n",
              "        -6.80131730e-01, -6.67646000e-01],\n",
              "       [ 2.06275720e-01,  1.88784760e-01,  1.18821370e-01,\n",
              "        -6.56322900e-01, -1.91406530e-01,  1.65525750e-01,\n",
              "        -3.14124200e-01, -1.44882780e-01]])"
            ]
          },
          "metadata": {},
          "execution_count": 27
        }
      ]
    },
    {
      "cell_type": "code",
      "source": [
        "import plotly.express as px\n",
        "\n",
        "fig = px.scatter(x=vectors[:,0], y=vectors[:,1], labels={'x':'x', 'y':'y'}, hover_name=words)\n",
        "fig.show()"
      ],
      "metadata": {
        "colab": {
          "base_uri": "https://localhost:8080/",
          "height": 542
        },
        "id": "5H4PxbVJV8jz",
        "outputId": "608ae2bc-68e2-4635-9319-042c3040f6b7"
      },
      "execution_count": null,
      "outputs": [
        {
          "output_type": "display_data",
          "data": {
            "text/html": [
              "<html>\n",
              "<head><meta charset=\"utf-8\" /></head>\n",
              "<body>\n",
              "    <div>            <script src=\"https://cdnjs.cloudflare.com/ajax/libs/mathjax/2.7.5/MathJax.js?config=TeX-AMS-MML_SVG\"></script><script type=\"text/javascript\">if (window.MathJax && window.MathJax.Hub && window.MathJax.Hub.Config) {window.MathJax.Hub.Config({SVG: {font: \"STIX-Web\"}});}</script>                <script type=\"text/javascript\">window.PlotlyConfig = {MathJaxConfig: 'local'};</script>\n",
              "        <script charset=\"utf-8\" src=\"https://cdn.plot.ly/plotly-2.24.1.min.js\"></script>                <div id=\"5f17cc30-06db-40b8-9a3a-eb137a767990\" class=\"plotly-graph-div\" style=\"height:525px; width:100%;\"></div>            <script type=\"text/javascript\">                                    window.PLOTLYENV=window.PLOTLYENV || {};                                    if (document.getElementById(\"5f17cc30-06db-40b8-9a3a-eb137a767990\")) {                    Plotly.newPlot(                        \"5f17cc30-06db-40b8-9a3a-eb137a767990\",                        [{\"hovertemplate\":\"\\u003cb\\u003e%{hovertext}\\u003c\\u002fb\\u003e\\u003cbr\\u003e\\u003cbr\\u003ex=%{x}\\u003cbr\\u003ey=%{y}\\u003cextra\\u003e\\u003c\\u002fextra\\u003e\",\"hovertext\":[\"to\",\"i\",\"you\",\"a\",\"the\",\"u\",\"and\",\"is\",\"in\",\"me\",\"my\",\"for\",\"your\",\"of\",\"it\",\"call\",\"have\",\"on\",\"that\",\"are\",\"now\",\"2\",\"im\",\"so\",\"or\",\"but\",\"not\",\"ur\",\"at\",\"get\",\"can\",\"be\",\"do\",\"with\",\"will\",\"if\",\"just\",\"we\",\"no\",\"up\",\"this\",\"its\",\"dont\",\"when\",\"from\",\"go\",\"all\",\"how\",\"free\",\"4\",\"what\",\"out\",\"ok\",\"ltgt\",\"know\",\"good\",\"like\",\"come\",\"ill\",\"am\",\"got\",\"then\",\"was\",\"only\",\"day\",\"time\",\"there\",\"want\",\"text\",\"love\",\"send\",\"as\",\"by\",\"one\",\"going\",\"need\",\"he\",\"see\",\"about\",\"txt\",\"r\",\"lor\",\"home\",\"stop\",\"sorry\",\"still\",\"our\",\"today\",\"hi\",\"n\",\"mobile\",\"back\",\"new\",\"please\",\"reply\",\"been\",\"tell\",\"think\"],\"legendgroup\":\"\",\"marker\":{\"color\":\"#636efa\",\"symbol\":\"circle\"},\"mode\":\"markers\",\"name\":\"\",\"orientation\":\"v\",\"showlegend\":false,\"x\":[-0.035226524,0.24549349,0.08266702,-0.07797027,0.060506243,-0.030739224,-0.12218572,0.09818734,0.18779838,0.10008465,1.0890015,-0.08133026,-0.2845123,-0.0075406265,0.33413953,-0.2780393,-0.12819235,0.04806234,0.8205953,0.008636894,-0.06349159,0.0013344622,0.4418367,0.21972847,-0.068555996,0.30673313,0.15728176,0.09207339,0.13173242,0.044113155,-6.9965376e-05,0.13892056,0.24664776,-0.046364825,0.21277303,0.04003549,0.06407246,0.1606129,0.08342139,0.5903086,-0.028754087,0.9139448,0.3224223,0.8276845,-0.1459501,0.414806,0.15169087,0.96519405,-0.65386397,0.07994768,0.084968165,0.72917193,0.17056966,1.0837846,0.1588431,0.06840285,0.07303155,1.0942595,1.1125256,0.40861994,0.67985326,0.41659892,0.062466945,0.16425572,0.43502373,0.14025594,0.08146312,0.089017935,-0.5304365,-0.18771613,-0.25367633,0.059243135,0.13498367,0.06897202,0.0019245774,0.08473038,0.78580236,0.07368495,0.39566523,-0.86660945,-0.012374376,0.68855894,0.021175304,-0.038907573,0.7631083,0.34240586,-0.08628257,0.0487057,0.10722332,0.35799894,-0.17422271,0.5626741,-0.3727798,0.1443905,-0.22808397,-0.06910635,0.6740491,0.20627572],\"xaxis\":\"x\",\"y\":[-0.14099398,0.30442184,-0.047783285,0.03607353,-0.015093353,0.02089964,-0.061090007,0.10495028,0.17338291,0.30116537,0.7880253,0.037909877,-0.36635134,0.11215857,0.3603543,-0.33734804,-0.13194315,0.13591403,0.69331473,-0.12229173,-0.06774954,-0.02794946,0.5687735,0.2315411,-0.07293271,0.24425225,0.09966474,-0.12325036,0.103814535,-0.13840738,0.018863859,0.03206559,0.29279527,-0.05708194,0.08351496,0.21598817,0.053838532,0.062104765,0.04550932,0.4506812,-0.1745603,0.7006147,0.32052103,0.963476,-0.25854146,0.31057754,0.13934386,0.8601317,-0.6477637,-0.11149286,0.06796184,0.3988515,0.28822508,0.7842763,0.011391917,0.078225866,0.06989063,0.89866894,0.9410365,0.17265359,0.5279071,0.33883238,0.13415465,0.0632044,0.18412162,0.047878496,0.07046626,-0.043940585,-0.39251903,0.07177051,-0.16499138,-0.009502188,0.027825123,0.13365841,0.12617378,0.08043441,0.6606209,0.07287307,0.17058164,-0.782881,-0.05897116,0.52368456,0.25014693,0.0013252455,0.63971674,0.2398879,-0.14035347,0.046673175,0.119526796,0.13777927,-0.11284397,0.18469046,-0.37044355,0.17837614,-0.18879496,-0.041506674,0.65005773,0.18878476],\"yaxis\":\"y\",\"type\":\"scatter\"}],                        {\"template\":{\"data\":{\"histogram2dcontour\":[{\"type\":\"histogram2dcontour\",\"colorbar\":{\"outlinewidth\":0,\"ticks\":\"\"},\"colorscale\":[[0.0,\"#0d0887\"],[0.1111111111111111,\"#46039f\"],[0.2222222222222222,\"#7201a8\"],[0.3333333333333333,\"#9c179e\"],[0.4444444444444444,\"#bd3786\"],[0.5555555555555556,\"#d8576b\"],[0.6666666666666666,\"#ed7953\"],[0.7777777777777778,\"#fb9f3a\"],[0.8888888888888888,\"#fdca26\"],[1.0,\"#f0f921\"]]}],\"choropleth\":[{\"type\":\"choropleth\",\"colorbar\":{\"outlinewidth\":0,\"ticks\":\"\"}}],\"histogram2d\":[{\"type\":\"histogram2d\",\"colorbar\":{\"outlinewidth\":0,\"ticks\":\"\"},\"colorscale\":[[0.0,\"#0d0887\"],[0.1111111111111111,\"#46039f\"],[0.2222222222222222,\"#7201a8\"],[0.3333333333333333,\"#9c179e\"],[0.4444444444444444,\"#bd3786\"],[0.5555555555555556,\"#d8576b\"],[0.6666666666666666,\"#ed7953\"],[0.7777777777777778,\"#fb9f3a\"],[0.8888888888888888,\"#fdca26\"],[1.0,\"#f0f921\"]]}],\"heatmap\":[{\"type\":\"heatmap\",\"colorbar\":{\"outlinewidth\":0,\"ticks\":\"\"},\"colorscale\":[[0.0,\"#0d0887\"],[0.1111111111111111,\"#46039f\"],[0.2222222222222222,\"#7201a8\"],[0.3333333333333333,\"#9c179e\"],[0.4444444444444444,\"#bd3786\"],[0.5555555555555556,\"#d8576b\"],[0.6666666666666666,\"#ed7953\"],[0.7777777777777778,\"#fb9f3a\"],[0.8888888888888888,\"#fdca26\"],[1.0,\"#f0f921\"]]}],\"heatmapgl\":[{\"type\":\"heatmapgl\",\"colorbar\":{\"outlinewidth\":0,\"ticks\":\"\"},\"colorscale\":[[0.0,\"#0d0887\"],[0.1111111111111111,\"#46039f\"],[0.2222222222222222,\"#7201a8\"],[0.3333333333333333,\"#9c179e\"],[0.4444444444444444,\"#bd3786\"],[0.5555555555555556,\"#d8576b\"],[0.6666666666666666,\"#ed7953\"],[0.7777777777777778,\"#fb9f3a\"],[0.8888888888888888,\"#fdca26\"],[1.0,\"#f0f921\"]]}],\"contourcarpet\":[{\"type\":\"contourcarpet\",\"colorbar\":{\"outlinewidth\":0,\"ticks\":\"\"}}],\"contour\":[{\"type\":\"contour\",\"colorbar\":{\"outlinewidth\":0,\"ticks\":\"\"},\"colorscale\":[[0.0,\"#0d0887\"],[0.1111111111111111,\"#46039f\"],[0.2222222222222222,\"#7201a8\"],[0.3333333333333333,\"#9c179e\"],[0.4444444444444444,\"#bd3786\"],[0.5555555555555556,\"#d8576b\"],[0.6666666666666666,\"#ed7953\"],[0.7777777777777778,\"#fb9f3a\"],[0.8888888888888888,\"#fdca26\"],[1.0,\"#f0f921\"]]}],\"surface\":[{\"type\":\"surface\",\"colorbar\":{\"outlinewidth\":0,\"ticks\":\"\"},\"colorscale\":[[0.0,\"#0d0887\"],[0.1111111111111111,\"#46039f\"],[0.2222222222222222,\"#7201a8\"],[0.3333333333333333,\"#9c179e\"],[0.4444444444444444,\"#bd3786\"],[0.5555555555555556,\"#d8576b\"],[0.6666666666666666,\"#ed7953\"],[0.7777777777777778,\"#fb9f3a\"],[0.8888888888888888,\"#fdca26\"],[1.0,\"#f0f921\"]]}],\"mesh3d\":[{\"type\":\"mesh3d\",\"colorbar\":{\"outlinewidth\":0,\"ticks\":\"\"}}],\"scatter\":[{\"fillpattern\":{\"fillmode\":\"overlay\",\"size\":10,\"solidity\":0.2},\"type\":\"scatter\"}],\"parcoords\":[{\"type\":\"parcoords\",\"line\":{\"colorbar\":{\"outlinewidth\":0,\"ticks\":\"\"}}}],\"scatterpolargl\":[{\"type\":\"scatterpolargl\",\"marker\":{\"colorbar\":{\"outlinewidth\":0,\"ticks\":\"\"}}}],\"bar\":[{\"error_x\":{\"color\":\"#2a3f5f\"},\"error_y\":{\"color\":\"#2a3f5f\"},\"marker\":{\"line\":{\"color\":\"#E5ECF6\",\"width\":0.5},\"pattern\":{\"fillmode\":\"overlay\",\"size\":10,\"solidity\":0.2}},\"type\":\"bar\"}],\"scattergeo\":[{\"type\":\"scattergeo\",\"marker\":{\"colorbar\":{\"outlinewidth\":0,\"ticks\":\"\"}}}],\"scatterpolar\":[{\"type\":\"scatterpolar\",\"marker\":{\"colorbar\":{\"outlinewidth\":0,\"ticks\":\"\"}}}],\"histogram\":[{\"marker\":{\"pattern\":{\"fillmode\":\"overlay\",\"size\":10,\"solidity\":0.2}},\"type\":\"histogram\"}],\"scattergl\":[{\"type\":\"scattergl\",\"marker\":{\"colorbar\":{\"outlinewidth\":0,\"ticks\":\"\"}}}],\"scatter3d\":[{\"type\":\"scatter3d\",\"line\":{\"colorbar\":{\"outlinewidth\":0,\"ticks\":\"\"}},\"marker\":{\"colorbar\":{\"outlinewidth\":0,\"ticks\":\"\"}}}],\"scattermapbox\":[{\"type\":\"scattermapbox\",\"marker\":{\"colorbar\":{\"outlinewidth\":0,\"ticks\":\"\"}}}],\"scatterternary\":[{\"type\":\"scatterternary\",\"marker\":{\"colorbar\":{\"outlinewidth\":0,\"ticks\":\"\"}}}],\"scattercarpet\":[{\"type\":\"scattercarpet\",\"marker\":{\"colorbar\":{\"outlinewidth\":0,\"ticks\":\"\"}}}],\"carpet\":[{\"aaxis\":{\"endlinecolor\":\"#2a3f5f\",\"gridcolor\":\"white\",\"linecolor\":\"white\",\"minorgridcolor\":\"white\",\"startlinecolor\":\"#2a3f5f\"},\"baxis\":{\"endlinecolor\":\"#2a3f5f\",\"gridcolor\":\"white\",\"linecolor\":\"white\",\"minorgridcolor\":\"white\",\"startlinecolor\":\"#2a3f5f\"},\"type\":\"carpet\"}],\"table\":[{\"cells\":{\"fill\":{\"color\":\"#EBF0F8\"},\"line\":{\"color\":\"white\"}},\"header\":{\"fill\":{\"color\":\"#C8D4E3\"},\"line\":{\"color\":\"white\"}},\"type\":\"table\"}],\"barpolar\":[{\"marker\":{\"line\":{\"color\":\"#E5ECF6\",\"width\":0.5},\"pattern\":{\"fillmode\":\"overlay\",\"size\":10,\"solidity\":0.2}},\"type\":\"barpolar\"}],\"pie\":[{\"automargin\":true,\"type\":\"pie\"}]},\"layout\":{\"autotypenumbers\":\"strict\",\"colorway\":[\"#636efa\",\"#EF553B\",\"#00cc96\",\"#ab63fa\",\"#FFA15A\",\"#19d3f3\",\"#FF6692\",\"#B6E880\",\"#FF97FF\",\"#FECB52\"],\"font\":{\"color\":\"#2a3f5f\"},\"hovermode\":\"closest\",\"hoverlabel\":{\"align\":\"left\"},\"paper_bgcolor\":\"white\",\"plot_bgcolor\":\"#E5ECF6\",\"polar\":{\"bgcolor\":\"#E5ECF6\",\"angularaxis\":{\"gridcolor\":\"white\",\"linecolor\":\"white\",\"ticks\":\"\"},\"radialaxis\":{\"gridcolor\":\"white\",\"linecolor\":\"white\",\"ticks\":\"\"}},\"ternary\":{\"bgcolor\":\"#E5ECF6\",\"aaxis\":{\"gridcolor\":\"white\",\"linecolor\":\"white\",\"ticks\":\"\"},\"baxis\":{\"gridcolor\":\"white\",\"linecolor\":\"white\",\"ticks\":\"\"},\"caxis\":{\"gridcolor\":\"white\",\"linecolor\":\"white\",\"ticks\":\"\"}},\"coloraxis\":{\"colorbar\":{\"outlinewidth\":0,\"ticks\":\"\"}},\"colorscale\":{\"sequential\":[[0.0,\"#0d0887\"],[0.1111111111111111,\"#46039f\"],[0.2222222222222222,\"#7201a8\"],[0.3333333333333333,\"#9c179e\"],[0.4444444444444444,\"#bd3786\"],[0.5555555555555556,\"#d8576b\"],[0.6666666666666666,\"#ed7953\"],[0.7777777777777778,\"#fb9f3a\"],[0.8888888888888888,\"#fdca26\"],[1.0,\"#f0f921\"]],\"sequentialminus\":[[0.0,\"#0d0887\"],[0.1111111111111111,\"#46039f\"],[0.2222222222222222,\"#7201a8\"],[0.3333333333333333,\"#9c179e\"],[0.4444444444444444,\"#bd3786\"],[0.5555555555555556,\"#d8576b\"],[0.6666666666666666,\"#ed7953\"],[0.7777777777777778,\"#fb9f3a\"],[0.8888888888888888,\"#fdca26\"],[1.0,\"#f0f921\"]],\"diverging\":[[0,\"#8e0152\"],[0.1,\"#c51b7d\"],[0.2,\"#de77ae\"],[0.3,\"#f1b6da\"],[0.4,\"#fde0ef\"],[0.5,\"#f7f7f7\"],[0.6,\"#e6f5d0\"],[0.7,\"#b8e186\"],[0.8,\"#7fbc41\"],[0.9,\"#4d9221\"],[1,\"#276419\"]]},\"xaxis\":{\"gridcolor\":\"white\",\"linecolor\":\"white\",\"ticks\":\"\",\"title\":{\"standoff\":15},\"zerolinecolor\":\"white\",\"automargin\":true,\"zerolinewidth\":2},\"yaxis\":{\"gridcolor\":\"white\",\"linecolor\":\"white\",\"ticks\":\"\",\"title\":{\"standoff\":15},\"zerolinecolor\":\"white\",\"automargin\":true,\"zerolinewidth\":2},\"scene\":{\"xaxis\":{\"backgroundcolor\":\"#E5ECF6\",\"gridcolor\":\"white\",\"linecolor\":\"white\",\"showbackground\":true,\"ticks\":\"\",\"zerolinecolor\":\"white\",\"gridwidth\":2},\"yaxis\":{\"backgroundcolor\":\"#E5ECF6\",\"gridcolor\":\"white\",\"linecolor\":\"white\",\"showbackground\":true,\"ticks\":\"\",\"zerolinecolor\":\"white\",\"gridwidth\":2},\"zaxis\":{\"backgroundcolor\":\"#E5ECF6\",\"gridcolor\":\"white\",\"linecolor\":\"white\",\"showbackground\":true,\"ticks\":\"\",\"zerolinecolor\":\"white\",\"gridwidth\":2}},\"shapedefaults\":{\"line\":{\"color\":\"#2a3f5f\"}},\"annotationdefaults\":{\"arrowcolor\":\"#2a3f5f\",\"arrowhead\":0,\"arrowwidth\":1},\"geo\":{\"bgcolor\":\"white\",\"landcolor\":\"#E5ECF6\",\"subunitcolor\":\"white\",\"showland\":true,\"showlakes\":true,\"lakecolor\":\"white\"},\"title\":{\"x\":0.05},\"mapbox\":{\"style\":\"light\"}}},\"xaxis\":{\"anchor\":\"y\",\"domain\":[0.0,1.0],\"title\":{\"text\":\"x\"}},\"yaxis\":{\"anchor\":\"x\",\"domain\":[0.0,1.0],\"title\":{\"text\":\"y\"}},\"legend\":{\"tracegroupgap\":0},\"margin\":{\"t\":60}},                        {\"responsive\": true}                    ).then(function(){\n",
              "                            \n",
              "var gd = document.getElementById('5f17cc30-06db-40b8-9a3a-eb137a767990');\n",
              "var x = new MutationObserver(function (mutations, observer) {{\n",
              "        var display = window.getComputedStyle(gd).display;\n",
              "        if (!display || display === 'none') {{\n",
              "            console.log([gd, 'removed!']);\n",
              "            Plotly.purge(gd);\n",
              "            observer.disconnect();\n",
              "        }}\n",
              "}});\n",
              "\n",
              "// Listen for the removal of the full notebook cells\n",
              "var notebookContainer = gd.closest('#notebook-container');\n",
              "if (notebookContainer) {{\n",
              "    x.observe(notebookContainer, {childList: true});\n",
              "}}\n",
              "\n",
              "// Listen for the clearing of the current output cell\n",
              "var outputEl = gd.closest('.output');\n",
              "if (outputEl) {{\n",
              "    x.observe(outputEl, {childList: true});\n",
              "}}\n",
              "\n",
              "                        })                };                            </script>        </div>\n",
              "</body>\n",
              "</html>"
            ]
          },
          "metadata": {}
        }
      ]
    },
    {
      "cell_type": "code",
      "source": [
        "model2 = Sequential()\n",
        "model2.add(Input(shape=(1,), dtype=\"string\"))\n",
        "model2.add(vectorize_layer)\n",
        "model2.add(Embedding(max_tokens + 1, 2))\n",
        "model2.add(SimpleRNN(16, return_sequences=True))\n",
        "model2.add(SimpleRNN(16))\n",
        "model2.add(Dense(16, activation=\"relu\"))\n",
        "model2.add(Dense(1, activation=\"sigmoid\"))\n",
        "model2.summary()"
      ],
      "metadata": {
        "colab": {
          "base_uri": "https://localhost:8080/"
        },
        "id": "_CDooxO4WA5j",
        "outputId": "5c2f7d91-a241-4388-9e23-a5ce80df6927"
      },
      "execution_count": null,
      "outputs": [
        {
          "output_type": "stream",
          "name": "stdout",
          "text": [
            "Model: \"sequential_1\"\n",
            "_________________________________________________________________\n",
            " Layer (type)                Output Shape              Param #   \n",
            "=================================================================\n",
            " text_vectorization (TextVe  (None, 10)                0         \n",
            " ctorization)                                                    \n",
            "                                                                 \n",
            " embedding_1 (Embedding)     (None, 10, 2)             202       \n",
            "                                                                 \n",
            " simple_rnn (SimpleRNN)      (None, 10, 16)            304       \n",
            "                                                                 \n",
            " simple_rnn_1 (SimpleRNN)    (None, 16)                528       \n",
            "                                                                 \n",
            " dense_2 (Dense)             (None, 16)                272       \n",
            "                                                                 \n",
            " dense_3 (Dense)             (None, 1)                 17        \n",
            "                                                                 \n",
            "=================================================================\n",
            "Total params: 1323 (5.17 KB)\n",
            "Trainable params: 1323 (5.17 KB)\n",
            "Non-trainable params: 0 (0.00 Byte)\n",
            "_________________________________________________________________\n"
          ]
        }
      ]
    },
    {
      "cell_type": "code",
      "source": [
        "model2.compile(\n",
        "  optimizer='adam',\n",
        "  loss='binary_crossentropy',\n",
        "  metrics=['accuracy'],\n",
        ")"
      ],
      "metadata": {
        "id": "p7FFeXVQWCSr"
      },
      "execution_count": null,
      "outputs": []
    },
    {
      "cell_type": "code",
      "source": [
        "history = model2.fit(X_train, y_train, epochs=10)\n"
      ],
      "metadata": {
        "colab": {
          "base_uri": "https://localhost:8080/"
        },
        "id": "zTTQefY2WDqT",
        "outputId": "6186e3a8-a7cf-4066-9b61-c59c65b1a464"
      },
      "execution_count": null,
      "outputs": [
        {
          "output_type": "stream",
          "name": "stdout",
          "text": [
            "Epoch 1/10\n",
            "140/140 [==============================] - 3s 20ms/step - loss: 0.1637 - accuracy: 0.9399\n",
            "Epoch 2/10\n",
            "140/140 [==============================] - 4s 27ms/step - loss: 0.1565 - accuracy: 0.9466\n",
            "Epoch 3/10\n",
            "140/140 [==============================] - 3s 21ms/step - loss: 0.1587 - accuracy: 0.9421\n",
            "Epoch 4/10\n",
            "140/140 [==============================] - 3s 20ms/step - loss: 0.1516 - accuracy: 0.9468\n",
            "Epoch 5/10\n",
            "140/140 [==============================] - 3s 24ms/step - loss: 0.1519 - accuracy: 0.9464\n",
            "Epoch 6/10\n",
            "140/140 [==============================] - 4s 27ms/step - loss: 0.1474 - accuracy: 0.9504\n",
            "Epoch 7/10\n",
            "140/140 [==============================] - 3s 20ms/step - loss: 0.1454 - accuracy: 0.9500\n",
            "Epoch 8/10\n",
            "140/140 [==============================] - 3s 20ms/step - loss: 0.1414 - accuracy: 0.9515\n",
            "Epoch 9/10\n",
            "140/140 [==============================] - 3s 21ms/step - loss: 0.1400 - accuracy: 0.9520\n",
            "Epoch 10/10\n",
            "140/140 [==============================] - 4s 28ms/step - loss: 0.1380 - accuracy: 0.9545\n"
          ]
        }
      ]
    },
    {
      "cell_type": "code",
      "source": [
        "plt.plot(history.history['accuracy'])\n",
        "plt.title('model accuracy')\n",
        "plt.ylabel('accuracy')\n",
        "plt.xlabel('epoch')\n",
        "plt.legend(['train', 'test'], loc='upper left')\n",
        "plt.show()"
      ],
      "metadata": {
        "colab": {
          "base_uri": "https://localhost:8080/",
          "height": 472
        },
        "id": "xQK72xnQWMHE",
        "outputId": "92d386b6-7430-4b7e-a67a-d359dabc1318"
      },
      "execution_count": null,
      "outputs": [
        {
          "output_type": "display_data",
          "data": {
            "text/plain": [
              "<Figure size 640x480 with 1 Axes>"
            ],
            "image/png": "[encoded data removed]"
          },
          "metadata": {}
        }
      ]
    }
  ]
}